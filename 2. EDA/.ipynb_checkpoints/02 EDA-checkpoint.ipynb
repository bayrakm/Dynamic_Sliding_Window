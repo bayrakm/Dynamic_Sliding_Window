{
 "cells": [
  {
   "cell_type": "code",
   "execution_count": 1,
   "id": "c5c8d51d",
   "metadata": {},
   "outputs": [],
   "source": [
    "import pandas as pd      \n",
    "import numpy as np \n",
    "import matplotlib.pyplot as plt\n",
    "import seaborn as sns\n",
    "from sklearn.metrics import mean_squared_error, mean_absolute_error, r2_score\n",
    "from sklearn.model_selection import train_test_split, GridSearchCV\n",
    "import warnings\n",
    "warnings.filterwarnings('ignore')"
   ]
  },
  {
   "cell_type": "code",
   "execution_count": 2,
   "id": "643a7763",
   "metadata": {},
   "outputs": [],
   "source": [
    "# load raw data which is comes from scraping process\n",
    "\n",
    "df = pd.read_pickle('data').reset_index().drop('index', axis=1)"
   ]
  },
  {
   "cell_type": "code",
   "execution_count": 3,
   "id": "9542ca3a",
   "metadata": {
    "scrolled": false
   },
   "outputs": [
    {
     "data": {
      "text/html": [
       "<div>\n",
       "<style scoped>\n",
       "    .dataframe tbody tr th:only-of-type {\n",
       "        vertical-align: middle;\n",
       "    }\n",
       "\n",
       "    .dataframe tbody tr th {\n",
       "        vertical-align: top;\n",
       "    }\n",
       "\n",
       "    .dataframe thead th {\n",
       "        text-align: right;\n",
       "    }\n",
       "</style>\n",
       "<table border=\"1\" class=\"dataframe\">\n",
       "  <thead>\n",
       "    <tr style=\"text-align: right;\">\n",
       "      <th></th>\n",
       "      <th>Date</th>\n",
       "      <th>Source</th>\n",
       "      <th>Make</th>\n",
       "      <th>Model</th>\n",
       "      <th>Price</th>\n",
       "      <th>Milage</th>\n",
       "      <th>Year</th>\n",
       "      <th>Power</th>\n",
       "      <th>Consumption</th>\n",
       "      <th>Cylinder</th>\n",
       "      <th>Gears</th>\n",
       "      <th>Fuel Type</th>\n",
       "      <th>Transmission</th>\n",
       "      <th>Body type</th>\n",
       "      <th>CO2 emission</th>\n",
       "      <th>Door</th>\n",
       "      <th>Seat</th>\n",
       "      <th>Engine size</th>\n",
       "    </tr>\n",
       "  </thead>\n",
       "  <tbody>\n",
       "    <tr>\n",
       "      <th>0</th>\n",
       "      <td>0000-00-00</td>\n",
       "      <td>https://www.autotrader.co.uk/car-details/20220...</td>\n",
       "      <td>Toyota</td>\n",
       "      <td>Aygo</td>\n",
       "      <td>2199.0</td>\n",
       "      <td>83000</td>\n",
       "      <td>2008</td>\n",
       "      <td>67.0</td>\n",
       "      <td>51.4</td>\n",
       "      <td>3</td>\n",
       "      <td>0</td>\n",
       "      <td>Petrol</td>\n",
       "      <td>Manual</td>\n",
       "      <td>Hatchback</td>\n",
       "      <td>108.0</td>\n",
       "      <td>3</td>\n",
       "      <td>4</td>\n",
       "      <td>1.0</td>\n",
       "    </tr>\n",
       "    <tr>\n",
       "      <th>1</th>\n",
       "      <td>0000-00-00</td>\n",
       "      <td>https://www.autotrader.co.uk/car-details/20220...</td>\n",
       "      <td>Toyota</td>\n",
       "      <td>Aygo</td>\n",
       "      <td>995.0</td>\n",
       "      <td>130000</td>\n",
       "      <td>2006</td>\n",
       "      <td>67.0</td>\n",
       "      <td>51.4</td>\n",
       "      <td>3</td>\n",
       "      <td>0</td>\n",
       "      <td>Petrol</td>\n",
       "      <td>Manual</td>\n",
       "      <td>Hatchback</td>\n",
       "      <td>108.0</td>\n",
       "      <td>3</td>\n",
       "      <td>4</td>\n",
       "      <td>1.0</td>\n",
       "    </tr>\n",
       "    <tr>\n",
       "      <th>2</th>\n",
       "      <td>0000-00-00</td>\n",
       "      <td>https://www.autotrader.co.uk/car-details/20220...</td>\n",
       "      <td>Toyota</td>\n",
       "      <td>Aygo</td>\n",
       "      <td>6695.0</td>\n",
       "      <td>39000</td>\n",
       "      <td>2017</td>\n",
       "      <td>67.0</td>\n",
       "      <td>56.5</td>\n",
       "      <td>3</td>\n",
       "      <td>0</td>\n",
       "      <td>Petrol</td>\n",
       "      <td>Manual</td>\n",
       "      <td>Hatchback</td>\n",
       "      <td>95.0</td>\n",
       "      <td>5</td>\n",
       "      <td>4</td>\n",
       "      <td>1.0</td>\n",
       "    </tr>\n",
       "    <tr>\n",
       "      <th>3</th>\n",
       "      <td>0000-00-00</td>\n",
       "      <td>https://www.autotrader.co.uk/car-details/20220...</td>\n",
       "      <td>Toyota</td>\n",
       "      <td>Aygo</td>\n",
       "      <td>2495.0</td>\n",
       "      <td>73000</td>\n",
       "      <td>2007</td>\n",
       "      <td>67.0</td>\n",
       "      <td>51.4</td>\n",
       "      <td>3</td>\n",
       "      <td>0</td>\n",
       "      <td>Petrol</td>\n",
       "      <td>Manual</td>\n",
       "      <td>Hatchback</td>\n",
       "      <td>109.0</td>\n",
       "      <td>3</td>\n",
       "      <td>4</td>\n",
       "      <td>1.0</td>\n",
       "    </tr>\n",
       "    <tr>\n",
       "      <th>4</th>\n",
       "      <td>0000-00-00</td>\n",
       "      <td>https://www.autotrader.co.uk/car-details/20220...</td>\n",
       "      <td>Toyota</td>\n",
       "      <td>Aygo</td>\n",
       "      <td>5995.0</td>\n",
       "      <td>57796</td>\n",
       "      <td>2015</td>\n",
       "      <td>67.0</td>\n",
       "      <td>56.5</td>\n",
       "      <td>3</td>\n",
       "      <td>0</td>\n",
       "      <td>Petrol</td>\n",
       "      <td>Manual</td>\n",
       "      <td>Hatchback</td>\n",
       "      <td>95.0</td>\n",
       "      <td>5</td>\n",
       "      <td>4</td>\n",
       "      <td>1.0</td>\n",
       "    </tr>\n",
       "    <tr>\n",
       "      <th>...</th>\n",
       "      <td>...</td>\n",
       "      <td>...</td>\n",
       "      <td>...</td>\n",
       "      <td>...</td>\n",
       "      <td>...</td>\n",
       "      <td>...</td>\n",
       "      <td>...</td>\n",
       "      <td>...</td>\n",
       "      <td>...</td>\n",
       "      <td>...</td>\n",
       "      <td>...</td>\n",
       "      <td>...</td>\n",
       "      <td>...</td>\n",
       "      <td>...</td>\n",
       "      <td>...</td>\n",
       "      <td>...</td>\n",
       "      <td>...</td>\n",
       "      <td>...</td>\n",
       "    </tr>\n",
       "    <tr>\n",
       "      <th>111734</th>\n",
       "      <td>0000-00-00</td>\n",
       "      <td>https://www.theaa.com/used-cars/cardetails/145...</td>\n",
       "      <td>Toyota</td>\n",
       "      <td>Aygo</td>\n",
       "      <td>9999.0</td>\n",
       "      <td>19828</td>\n",
       "      <td>18</td>\n",
       "      <td>0.0</td>\n",
       "      <td>0.0</td>\n",
       "      <td>0</td>\n",
       "      <td>0</td>\n",
       "      <td>Petrol</td>\n",
       "      <td>Manual</td>\n",
       "      <td>Hatchback</td>\n",
       "      <td>95.0</td>\n",
       "      <td>5</td>\n",
       "      <td>0</td>\n",
       "      <td>1.0</td>\n",
       "    </tr>\n",
       "    <tr>\n",
       "      <th>111735</th>\n",
       "      <td>0000-00-00</td>\n",
       "      <td>https://www.theaa.com/used-cars/cardetails/137...</td>\n",
       "      <td>Toyota</td>\n",
       "      <td>Aygo</td>\n",
       "      <td>11995.0</td>\n",
       "      <td>5632</td>\n",
       "      <td>2021</td>\n",
       "      <td>0.0</td>\n",
       "      <td>0.0</td>\n",
       "      <td>0</td>\n",
       "      <td>0</td>\n",
       "      <td>Petrol</td>\n",
       "      <td>Manual</td>\n",
       "      <td>Hatchback</td>\n",
       "      <td>114.0</td>\n",
       "      <td>5</td>\n",
       "      <td>0</td>\n",
       "      <td>1.0</td>\n",
       "    </tr>\n",
       "    <tr>\n",
       "      <th>111736</th>\n",
       "      <td>0000-00-00</td>\n",
       "      <td>https://www.theaa.com/used-cars/cardetails/137...</td>\n",
       "      <td>Toyota</td>\n",
       "      <td>Aygo</td>\n",
       "      <td>11500.0</td>\n",
       "      <td>28898</td>\n",
       "      <td>2018</td>\n",
       "      <td>0.0</td>\n",
       "      <td>0.0</td>\n",
       "      <td>0</td>\n",
       "      <td>0</td>\n",
       "      <td>Petrol</td>\n",
       "      <td>Semiauto</td>\n",
       "      <td>Hatchback</td>\n",
       "      <td>95.0</td>\n",
       "      <td>5</td>\n",
       "      <td>0</td>\n",
       "      <td>1.0</td>\n",
       "    </tr>\n",
       "    <tr>\n",
       "      <th>111737</th>\n",
       "      <td>0000-00-00</td>\n",
       "      <td>https://www.theaa.com/used-cars/cardetails/7-4...</td>\n",
       "      <td>Ford</td>\n",
       "      <td>Mondeo</td>\n",
       "      <td>10646.0</td>\n",
       "      <td>51139</td>\n",
       "      <td>2015</td>\n",
       "      <td>0.0</td>\n",
       "      <td>0.0</td>\n",
       "      <td>0</td>\n",
       "      <td>0</td>\n",
       "      <td>Diesel</td>\n",
       "      <td>Manual</td>\n",
       "      <td>Hatchback</td>\n",
       "      <td>107.0</td>\n",
       "      <td>5</td>\n",
       "      <td>0</td>\n",
       "      <td>2.0</td>\n",
       "    </tr>\n",
       "    <tr>\n",
       "      <th>111738</th>\n",
       "      <td>0000-00-00</td>\n",
       "      <td>https://www.theaa.com/used-cars/cardetails/6-2...</td>\n",
       "      <td>Ford</td>\n",
       "      <td>Mondeo</td>\n",
       "      <td>14650.0</td>\n",
       "      <td>99000</td>\n",
       "      <td>2019</td>\n",
       "      <td>0.0</td>\n",
       "      <td>0.0</td>\n",
       "      <td>0</td>\n",
       "      <td>0</td>\n",
       "      <td>Petrol hybrid</td>\n",
       "      <td>Automatic</td>\n",
       "      <td>Estate</td>\n",
       "      <td>103.0</td>\n",
       "      <td>5</td>\n",
       "      <td>0</td>\n",
       "      <td>2.0</td>\n",
       "    </tr>\n",
       "  </tbody>\n",
       "</table>\n",
       "<p>111739 rows × 18 columns</p>\n",
       "</div>"
      ],
      "text/plain": [
       "              Date                                             Source    Make  \\\n",
       "0       0000-00-00  https://www.autotrader.co.uk/car-details/20220...  Toyota   \n",
       "1       0000-00-00  https://www.autotrader.co.uk/car-details/20220...  Toyota   \n",
       "2       0000-00-00  https://www.autotrader.co.uk/car-details/20220...  Toyota   \n",
       "3       0000-00-00  https://www.autotrader.co.uk/car-details/20220...  Toyota   \n",
       "4       0000-00-00  https://www.autotrader.co.uk/car-details/20220...  Toyota   \n",
       "...            ...                                                ...     ...   \n",
       "111734  0000-00-00  https://www.theaa.com/used-cars/cardetails/145...  Toyota   \n",
       "111735  0000-00-00  https://www.theaa.com/used-cars/cardetails/137...  Toyota   \n",
       "111736  0000-00-00  https://www.theaa.com/used-cars/cardetails/137...  Toyota   \n",
       "111737  0000-00-00  https://www.theaa.com/used-cars/cardetails/7-4...    Ford   \n",
       "111738  0000-00-00  https://www.theaa.com/used-cars/cardetails/6-2...    Ford   \n",
       "\n",
       "         Model    Price  Milage  Year  Power  Consumption  Cylinder  Gears  \\\n",
       "0         Aygo   2199.0   83000  2008   67.0         51.4         3      0   \n",
       "1         Aygo    995.0  130000  2006   67.0         51.4         3      0   \n",
       "2         Aygo   6695.0   39000  2017   67.0         56.5         3      0   \n",
       "3         Aygo   2495.0   73000  2007   67.0         51.4         3      0   \n",
       "4         Aygo   5995.0   57796  2015   67.0         56.5         3      0   \n",
       "...        ...      ...     ...   ...    ...          ...       ...    ...   \n",
       "111734    Aygo   9999.0   19828    18    0.0          0.0         0      0   \n",
       "111735    Aygo  11995.0    5632  2021    0.0          0.0         0      0   \n",
       "111736    Aygo  11500.0   28898  2018    0.0          0.0         0      0   \n",
       "111737  Mondeo  10646.0   51139  2015    0.0          0.0         0      0   \n",
       "111738  Mondeo  14650.0   99000  2019    0.0          0.0         0      0   \n",
       "\n",
       "            Fuel Type Transmission  Body type  CO2 emission  Door  Seat  \\\n",
       "0              Petrol       Manual  Hatchback         108.0     3     4   \n",
       "1              Petrol       Manual  Hatchback         108.0     3     4   \n",
       "2              Petrol       Manual  Hatchback          95.0     5     4   \n",
       "3              Petrol       Manual  Hatchback         109.0     3     4   \n",
       "4              Petrol       Manual  Hatchback          95.0     5     4   \n",
       "...               ...          ...        ...           ...   ...   ...   \n",
       "111734         Petrol       Manual  Hatchback          95.0     5     0   \n",
       "111735         Petrol       Manual  Hatchback         114.0     5     0   \n",
       "111736         Petrol     Semiauto  Hatchback          95.0     5     0   \n",
       "111737         Diesel       Manual  Hatchback         107.0     5     0   \n",
       "111738  Petrol hybrid    Automatic     Estate         103.0     5     0   \n",
       "\n",
       "        Engine size  \n",
       "0               1.0  \n",
       "1               1.0  \n",
       "2               1.0  \n",
       "3               1.0  \n",
       "4               1.0  \n",
       "...             ...  \n",
       "111734          1.0  \n",
       "111735          1.0  \n",
       "111736          1.0  \n",
       "111737          2.0  \n",
       "111738          2.0  \n",
       "\n",
       "[111739 rows x 18 columns]"
      ]
     },
     "execution_count": 3,
     "metadata": {},
     "output_type": "execute_result"
    }
   ],
   "source": [
    "# There are 111739 data points before cleaning process\n",
    "df"
   ]
  },
  {
   "cell_type": "code",
   "execution_count": 4,
   "id": "416c0c9a",
   "metadata": {},
   "outputs": [
    {
     "data": {
      "text/plain": [
       "Date            0\n",
       "Source          0\n",
       "Make            0\n",
       "Model           0\n",
       "Price           0\n",
       "Milage          0\n",
       "Year            0\n",
       "Power           0\n",
       "Consumption     0\n",
       "Cylinder        0\n",
       "Gears           0\n",
       "Fuel Type       0\n",
       "Transmission    0\n",
       "Body type       0\n",
       "CO2 emission    0\n",
       "Door            0\n",
       "Seat            0\n",
       "Engine size     0\n",
       "dtype: int64"
      ]
     },
     "execution_count": 4,
     "metadata": {},
     "output_type": "execute_result"
    }
   ],
   "source": [
    "# check null values\n",
    "# seems no null values but I know there are N/A strings\n",
    "\n",
    "df.isnull().sum()"
   ]
  },
  {
   "cell_type": "markdown",
   "id": "49021011",
   "metadata": {},
   "source": [
    "### N/A to Nan values\n",
    "\n",
    "I need to replace N/A strings to null values"
   ]
  },
  {
   "cell_type": "code",
   "execution_count": 5,
   "id": "36a8b88f",
   "metadata": {},
   "outputs": [],
   "source": [
    "df = df.replace('N/A', np.nan)\n",
    "df = df.replace('N/a', np.nan)\n",
    "df = df.replace('n/a', np.nan)"
   ]
  },
  {
   "cell_type": "code",
   "execution_count": 6,
   "id": "f868550f",
   "metadata": {},
   "outputs": [
    {
     "data": {
      "text/plain": [
       "Date               0\n",
       "Source             0\n",
       "Make               0\n",
       "Model              0\n",
       "Price              0\n",
       "Milage             0\n",
       "Year               0\n",
       "Power              0\n",
       "Consumption        0\n",
       "Cylinder           0\n",
       "Gears              0\n",
       "Fuel Type       8379\n",
       "Transmission      58\n",
       "Body type       6415\n",
       "CO2 emission       0\n",
       "Door               0\n",
       "Seat               0\n",
       "Engine size        0\n",
       "dtype: int64"
      ]
     },
     "execution_count": 6,
     "metadata": {},
     "output_type": "execute_result"
    }
   ],
   "source": [
    "# now I have some null values\n",
    "\n",
    "df.isnull().sum()"
   ]
  },
  {
   "cell_type": "markdown",
   "id": "81d37bdd",
   "metadata": {},
   "source": [
    "# Fixing Attributes\n",
    "\n",
    "Check each fields to fix issues"
   ]
  },
  {
   "cell_type": "markdown",
   "id": "b8ea131b",
   "metadata": {},
   "source": [
    "### Source \n",
    "\n",
    "Exract sources from URLs and store in different field. data_source field identify the company so it may have an effect on pricing."
   ]
  },
  {
   "cell_type": "code",
   "execution_count": 7,
   "id": "9bc44266",
   "metadata": {},
   "outputs": [],
   "source": [
    "def get_source(x):\n",
    "    ''' to get data sources from URLs\n",
    "    \n",
    "    x: URL string\n",
    "    \n",
    "    return: data source string\n",
    "    '''\n",
    "    \n",
    "    if 'cargurus' in x:\n",
    "        return 'cargurus'\n",
    "    elif 'theaa' in x:\n",
    "        return 'theaa'\n",
    "    elif 'autotrader' in x:\n",
    "        return 'autotrader'\n",
    "    elif 'parkers' in x:\n",
    "        return 'parkers'\n"
   ]
  },
  {
   "cell_type": "code",
   "execution_count": 8,
   "id": "3ca38a9c",
   "metadata": {},
   "outputs": [],
   "source": [
    "df['data_source'] = df.Source.apply(lambda x: get_source(x))"
   ]
  },
  {
   "cell_type": "code",
   "execution_count": 9,
   "id": "bd57712d",
   "metadata": {},
   "outputs": [
    {
     "data": {
      "text/plain": [
       "cargurus      54641\n",
       "theaa         32474\n",
       "autotrader    22018\n",
       "parkers        2606\n",
       "Name: data_source, dtype: int64"
      ]
     },
     "execution_count": 9,
     "metadata": {},
     "output_type": "execute_result"
    }
   ],
   "source": [
    "df.data_source.value_counts()"
   ]
  },
  {
   "cell_type": "code",
   "execution_count": 10,
   "id": "a29d4e05",
   "metadata": {},
   "outputs": [
    {
     "data": {
      "text/plain": [
       "111739"
      ]
     },
     "execution_count": 10,
     "metadata": {},
     "output_type": "execute_result"
    }
   ],
   "source": [
    "df.data_source.count()"
   ]
  },
  {
   "cell_type": "markdown",
   "id": "23c4b10e",
   "metadata": {},
   "source": [
    "### Make\n",
    "\n",
    "Make or brand of the car will be and important feature."
   ]
  },
  {
   "cell_type": "code",
   "execution_count": 11,
   "id": "b4d2b3c1",
   "metadata": {
    "scrolled": true
   },
   "outputs": [
    {
     "data": {
      "text/plain": [
       "data_source  Make         \n",
       "autotrader   Ford              5016\n",
       "             Toyota            6783\n",
       "             Vauxhall          5113\n",
       "             Volkswagen        5106\n",
       "cargurus     Audi                 2\n",
       "             Citroen              1\n",
       "             Ford             23290\n",
       "             Hyundai              1\n",
       "             Isuzu                3\n",
       "             Land Rover           2\n",
       "             MINI                 3\n",
       "             Mazda                1\n",
       "             Mercedes-Benz        2\n",
       "             Mitsubishi           1\n",
       "             Peugeot              1\n",
       "             Seat                 3\n",
       "             Skoda                2\n",
       "             Toyota            3142\n",
       "             Vauxhall         13683\n",
       "             Volkswagen       14502\n",
       "             Volvo                2\n",
       "parkers      Ford               193\n",
       "             Toyota            2413\n",
       "theaa                           147\n",
       "             FORD              1504\n",
       "             Ford              8609\n",
       "             Skoda                1\n",
       "             TOYOTA             364\n",
       "             Toyota            3765\n",
       "             VAUXHALL          1448\n",
       "             VOLKSWAGEN         853\n",
       "             Vauxhall          6802\n",
       "             Volkswagen        8980\n",
       "             Volvo                1\n",
       "Name: Date, dtype: int64"
      ]
     },
     "execution_count": 11,
     "metadata": {},
     "output_type": "execute_result"
    }
   ],
   "source": [
    "df.groupby(['data_source', 'Make']).Date.count()"
   ]
  },
  {
   "cell_type": "code",
   "execution_count": 12,
   "id": "4079c0ff",
   "metadata": {},
   "outputs": [],
   "source": [
    "# fix the upper-lower case issues\n",
    "\n",
    "df = df.replace({'Make':{'FORD':'Ford', 'TOYOTA':'Toyota', 'VOLKSWAGEN':'Volkswagen', 'VAUXHALL':'Vauxhall'}})"
   ]
  },
  {
   "cell_type": "code",
   "execution_count": 13,
   "id": "f1588880",
   "metadata": {},
   "outputs": [
    {
     "data": {
      "text/plain": [
       "array(['Toyota', 'Vauxhall', 'Volkswagen', 'Ford', 'Seat', 'MINI',\n",
       "       'Mercedes-Benz', 'Skoda', 'Audi', 'Mazda', 'Isuzu', 'Peugeot',\n",
       "       'Volvo', 'Land Rover', 'Mitsubishi', 'Hyundai', 'Citroen', ''],\n",
       "      dtype=object)"
      ]
     },
     "execution_count": 13,
     "metadata": {},
     "output_type": "execute_result"
    }
   ],
   "source": [
    "df.Make.unique()"
   ]
  },
  {
   "cell_type": "code",
   "execution_count": 14,
   "id": "87f91f05",
   "metadata": {},
   "outputs": [],
   "source": [
    "# there are some brands that we dont want. I need to drop those data points\n",
    "\n",
    "drop_list = ['Seat', 'MINI', 'Mercedes-Benz', 'Skoda', 'Audi', 'Mazda', 'Isuzu', \n",
    "             'Peugeot', 'Volvo', 'Land Rover', 'Mitsubishi', 'Hyundai', 'Citroen', '']\n",
    "\n",
    "df = df[~df.Make.isin(drop_list)]"
   ]
  },
  {
   "cell_type": "code",
   "execution_count": 15,
   "id": "312e6254",
   "metadata": {},
   "outputs": [
    {
     "data": {
      "text/plain": [
       "array(['Toyota', 'Vauxhall', 'Volkswagen', 'Ford'], dtype=object)"
      ]
     },
     "execution_count": 15,
     "metadata": {},
     "output_type": "execute_result"
    }
   ],
   "source": [
    "df.Make.unique()"
   ]
  },
  {
   "cell_type": "code",
   "execution_count": 16,
   "id": "ad69e40e",
   "metadata": {},
   "outputs": [
    {
     "data": {
      "text/plain": [
       "111566"
      ]
     },
     "execution_count": 16,
     "metadata": {},
     "output_type": "execute_result"
    }
   ],
   "source": [
    "# we dropped roughly 200 data points which was totally noise.\n",
    "\n",
    "df.Make.count()"
   ]
  },
  {
   "cell_type": "markdown",
   "id": "92457179",
   "metadata": {},
   "source": [
    "### Model\n",
    "\n",
    "Model names contain some information we extract if we dont have it and create a concise, common model name for each make model."
   ]
  },
  {
   "cell_type": "code",
   "execution_count": 17,
   "id": "23fc51a1",
   "metadata": {
    "scrolled": true
   },
   "outputs": [
    {
     "data": {
      "text/plain": [
       "data_source  Make        Model                    \n",
       "autotrader   Ford        Fiesta                       1011\n",
       "                         Fiesta ST                       2\n",
       "                         Fiesta Vignale                  7\n",
       "                         Fiesta-vignale                  2\n",
       "                         Focus                        1055\n",
       "                                                      ... \n",
       "theaa        Volkswagen  Tiguan Allspace Estate          1\n",
       "                         Tiguan Diesel Estate           26\n",
       "                         Tiguan Estate                  20\n",
       "                         Tiguan Estate Special Edi       1\n",
       "                         Tiguan PA                       1\n",
       "Name: Date, Length: 335, dtype: int64"
      ]
     },
     "execution_count": 17,
     "metadata": {},
     "output_type": "execute_result"
    }
   ],
   "source": [
    "df.groupby(['data_source', 'Make', 'Model']).Date.count()"
   ]
  },
  {
   "cell_type": "code",
   "execution_count": 18,
   "id": "1db8a91f",
   "metadata": {
    "scrolled": true
   },
   "outputs": [
    {
     "data": {
      "text/plain": [
       "Fiesta                                                12736\n",
       "Focus                                                 10944\n",
       "Golf                                                   9815\n",
       "Corsa                                                  9127\n",
       "Kuga                                                   8270\n",
       "                                                      ...  \n",
       "RAV4 2.0 D-4D Excel SUV 5dr Diesel Euro 6 (s/s) (S        1\n",
       "Rav4 2.5 VVT-i (215bhp) Excel Hybrid                      1\n",
       "2.5 VVT-i (219bhp) Dynamic AWD Hybrid                     1\n",
       "RAV4 Excel 2.5 Hybrid AWD-i                               1\n",
       "Tiguan Estate Special Edi                                 1\n",
       "Name: Model, Length: 247, dtype: int64"
      ]
     },
     "execution_count": 18,
     "metadata": {},
     "output_type": "execute_result"
    }
   ],
   "source": [
    "df.Model.value_counts(dropna=False)"
   ]
  },
  {
   "cell_type": "markdown",
   "id": "5cd3bad5",
   "metadata": {},
   "source": [
    "Makes and models should be as below. \n",
    "\n",
    "**Toyota**: Aygo, Auris, Yaris, RAV4, Avensis\n",
    "\n",
    "**Vauxhall**: Astra, Corsa, ADAM, Mokka X, Insignia\n",
    "\n",
    "**Volkswagen**: Polo, Golf, Scirocco, Tiguan, Passat,\n",
    "\n",
    "**Ford**: Ka, Fiesta, Focus, Kuga, Mondeo"
   ]
  },
  {
   "cell_type": "code",
   "execution_count": 19,
   "id": "5246b922",
   "metadata": {},
   "outputs": [],
   "source": [
    "def get_model(x):\n",
    "    \n",
    "    ''' to get model as expected\n",
    "    \n",
    "    x: model string\n",
    "    \n",
    "    return: corrected model string\n",
    "    '''\n",
    "    \n",
    "    x = x.lower()\n",
    "    \n",
    "    if 'aygo' in x:\n",
    "        return 'Aygo'\n",
    "    elif 'auris' in x:\n",
    "        return 'Auris'\n",
    "    elif 'yaris' in x:\n",
    "        return 'Yaris'\n",
    "    elif ('rav4' in x) | ('rav 4' in x) | ('rav-4' in x):\n",
    "        return 'RAV4'\n",
    "    elif 'avensis' in x:\n",
    "        return 'Avensis'\n",
    "    elif 'astra' in x:\n",
    "        return 'Astra'\n",
    "    elif 'corsa' in x:\n",
    "        return 'Corsa'\n",
    "    elif 'adam' in x:\n",
    "        return 'ADAM'\n",
    "    elif ('mokka x' in x) | ('mokka' in x):\n",
    "        return 'Mokka'\n",
    "    elif 'insignia' in x:\n",
    "        return 'Insignia'\n",
    "    elif 'polo' in x:\n",
    "        return 'Polo'\n",
    "    elif 'golf' in x:\n",
    "        return 'Golf'\n",
    "    elif 'scirocco' in x:\n",
    "        return 'Scirocco'\n",
    "    elif 'tiguan' in x:\n",
    "        return 'Tiguan'\n",
    "    elif 'passat' in x:\n",
    "        return 'Passat'\n",
    "    elif 'ka' in x:\n",
    "        return 'KA'\n",
    "    elif 'fiesta' in x:\n",
    "        return 'Fiesta'\n",
    "    elif 'focus' in x:\n",
    "        return 'Focus'\n",
    "    elif 'kuga' in x:\n",
    "        return 'Kuga'\n",
    "    elif 'mondeo' in x:\n",
    "        return 'Mondeo'\n",
    "    else:\n",
    "        return 'other'\n"
   ]
  },
  {
   "cell_type": "code",
   "execution_count": 20,
   "id": "224d0570",
   "metadata": {},
   "outputs": [],
   "source": [
    "df['Model_1'] = df.Model.apply(lambda x: get_model(x))"
   ]
  },
  {
   "cell_type": "code",
   "execution_count": 21,
   "id": "707038c9",
   "metadata": {
    "scrolled": true
   },
   "outputs": [
    {
     "data": {
      "text/plain": [
       "Fiesta      13231\n",
       "Focus       11493\n",
       "Golf        10213\n",
       "Corsa        9697\n",
       "Kuga         8709\n",
       "Polo         7868\n",
       "Astra        6910\n",
       "Tiguan       6872\n",
       "Mokka        5667\n",
       "Aygo         5080\n",
       "Yaris        4203\n",
       "RAV4         3250\n",
       "Mondeo       3143\n",
       "Passat       2954\n",
       "Auris        2943\n",
       "Insignia     2732\n",
       "ADAM         2037\n",
       "KA           2029\n",
       "Scirocco     1532\n",
       "Avensis       790\n",
       "other         213\n",
       "Name: Model_1, dtype: int64"
      ]
     },
     "execution_count": 21,
     "metadata": {},
     "output_type": "execute_result"
    }
   ],
   "source": [
    "df.Model_1.value_counts()"
   ]
  },
  {
   "cell_type": "code",
   "execution_count": 22,
   "id": "d4256062",
   "metadata": {},
   "outputs": [],
   "source": [
    "# other model are not expected so drop them.\n",
    "\n",
    "drop_other = list(df[df.Model_1 == 'other'].index)"
   ]
  },
  {
   "cell_type": "code",
   "execution_count": 23,
   "id": "5b2cd658",
   "metadata": {},
   "outputs": [],
   "source": [
    "df = df.drop(index=drop_other)"
   ]
  },
  {
   "cell_type": "code",
   "execution_count": 24,
   "id": "b0ae7e37",
   "metadata": {},
   "outputs": [
    {
     "data": {
      "text/plain": [
       "Fiesta      13231\n",
       "Focus       11493\n",
       "Golf        10213\n",
       "Corsa        9697\n",
       "Kuga         8709\n",
       "Polo         7868\n",
       "Astra        6910\n",
       "Tiguan       6872\n",
       "Mokka        5667\n",
       "Aygo         5080\n",
       "Yaris        4203\n",
       "RAV4         3250\n",
       "Mondeo       3143\n",
       "Passat       2954\n",
       "Auris        2943\n",
       "Insignia     2732\n",
       "ADAM         2037\n",
       "KA           2029\n",
       "Scirocco     1532\n",
       "Avensis       790\n",
       "Name: Model_1, dtype: int64"
      ]
     },
     "execution_count": 24,
     "metadata": {},
     "output_type": "execute_result"
    }
   ],
   "source": [
    "df.Model_1.value_counts()"
   ]
  },
  {
   "cell_type": "code",
   "execution_count": 25,
   "id": "1bbf84b9",
   "metadata": {},
   "outputs": [
    {
     "data": {
      "text/plain": [
       "111353"
      ]
     },
     "execution_count": 25,
     "metadata": {},
     "output_type": "execute_result"
    }
   ],
   "source": [
    "# around 200 data points dropped\n",
    "\n",
    "df.Model_1.count()"
   ]
  },
  {
   "cell_type": "markdown",
   "id": "70f8ebb2",
   "metadata": {},
   "source": [
    "### Year\n",
    "\n",
    "There are some issues in Year feature needed to be fixed"
   ]
  },
  {
   "cell_type": "code",
   "execution_count": 26,
   "id": "3c8d055c",
   "metadata": {},
   "outputs": [
    {
     "data": {
      "text/plain": [
       "0        1122\n",
       "1           1\n",
       "12          1\n",
       "13          8\n",
       "14         11\n",
       "        ...  \n",
       "2019    19820\n",
       "2020     8292\n",
       "2021     5441\n",
       "2022      912\n",
       "2023        2\n",
       "Name: Year, Length: 65, dtype: int64"
      ]
     },
     "execution_count": 26,
     "metadata": {},
     "output_type": "execute_result"
    }
   ],
   "source": [
    "df.Year.value_counts().sort_index()"
   ]
  },
  {
   "cell_type": "code",
   "execution_count": 27,
   "id": "4fbf1291",
   "metadata": {},
   "outputs": [],
   "source": [
    "# year should be between >2000 and <2023\n",
    "\n",
    "drop_idx = list(df[(df.Year<2000) | (df.Year==2023)].index)"
   ]
  },
  {
   "cell_type": "code",
   "execution_count": 28,
   "id": "e264f75a",
   "metadata": {},
   "outputs": [
    {
     "data": {
      "text/plain": [
       "1634"
      ]
     },
     "execution_count": 28,
     "metadata": {},
     "output_type": "execute_result"
    }
   ],
   "source": [
    "len(drop_idx)"
   ]
  },
  {
   "cell_type": "code",
   "execution_count": 29,
   "id": "48629110",
   "metadata": {},
   "outputs": [],
   "source": [
    "df.drop(index=drop_idx, inplace=True)"
   ]
  },
  {
   "cell_type": "code",
   "execution_count": 30,
   "id": "87ca67a9",
   "metadata": {},
   "outputs": [
    {
     "data": {
      "text/plain": [
       "2019    19820\n",
       "2018    18055\n",
       "2017    12355\n",
       "2016     9162\n",
       "2020     8292\n",
       "2015     7894\n",
       "2014     5758\n",
       "2021     5441\n",
       "2013     5083\n",
       "2012     3838\n",
       "2011     3312\n",
       "2010     2774\n",
       "2009     2411\n",
       "2008     1564\n",
       "2007     1163\n",
       "2022      912\n",
       "2006      716\n",
       "2005      447\n",
       "2004      281\n",
       "2003      210\n",
       "2002      107\n",
       "2001       79\n",
       "2000       45\n",
       "Name: Year, dtype: int64"
      ]
     },
     "execution_count": 30,
     "metadata": {},
     "output_type": "execute_result"
    }
   ],
   "source": [
    "df.Year.value_counts(dropna=False)"
   ]
  },
  {
   "cell_type": "markdown",
   "id": "65f8a9c7",
   "metadata": {},
   "source": [
    "### Mileage"
   ]
  },
  {
   "cell_type": "code",
   "execution_count": 31,
   "id": "7e7ca998",
   "metadata": {},
   "outputs": [
    {
     "data": {
      "text/plain": [
       "<Axes: ylabel='Frequency'>"
      ]
     },
     "execution_count": 31,
     "metadata": {},
     "output_type": "execute_result"
    },
    {
     "data": {
      "image/png": "[encoded data removed]",
      "text/plain": [
       "<Figure size 640x480 with 1 Axes>"
      ]
     },
     "metadata": {},
     "output_type": "display_data"
    }
   ],
   "source": [
    "df.Milage.plot(kind='hist', bins=100)"
   ]
  },
  {
   "cell_type": "code",
   "execution_count": 32,
   "id": "7153f606",
   "metadata": {},
   "outputs": [],
   "source": [
    "# Milage shouldn't be zero since all cars are used.\n",
    "\n",
    "idx_mil_0 = df[df.Milage==0].index"
   ]
  },
  {
   "cell_type": "code",
   "execution_count": 33,
   "id": "8a6db500",
   "metadata": {},
   "outputs": [],
   "source": [
    "# replace milage = 0 to nan val\n",
    "\n",
    "df.loc[idx_mil_0, 'Milage'] = np.nan"
   ]
  },
  {
   "cell_type": "code",
   "execution_count": 34,
   "id": "ea46a2fc",
   "metadata": {},
   "outputs": [
    {
     "data": {
      "text/plain": [
       "60000.0    311\n",
       "50000.0    307\n",
       "40000.0    306\n",
       "45000.0    301\n",
       "70000.0    297\n",
       "          ... \n",
       "40842.0      1\n",
       "93333.0      1\n",
       "59743.0      1\n",
       "85653.0      1\n",
       "59119.0      1\n",
       "Name: Milage, Length: 41266, dtype: int64"
      ]
     },
     "execution_count": 34,
     "metadata": {},
     "output_type": "execute_result"
    }
   ],
   "source": [
    "df.Milage.value_counts(dropna=False)"
   ]
  },
  {
   "cell_type": "markdown",
   "id": "01e536b2",
   "metadata": {},
   "source": [
    "### Fuel Type\n",
    "\n",
    "There are 4 fuel types, petrol, diesel, electric and hybrid. All electric combinations will be titled as hybrid"
   ]
  },
  {
   "cell_type": "code",
   "execution_count": 35,
   "id": "b4894b97",
   "metadata": {},
   "outputs": [
    {
     "data": {
      "text/plain": [
       "Petrol                    65222\n",
       "Diesel                    30500\n",
       "NaN                        8292\n",
       "Hybrid                     2534\n",
       "Petrol Hybrid              1893\n",
       "Petrol/Electric Hybrid      477\n",
       "Electric                    293\n",
       "Petrol hybrid               263\n",
       "Petrol Plug-in Hybrid        85\n",
       "Petrol/electric              62\n",
       "Petrol/plugin elec h         23\n",
       "Petrol plug-in hybri         20\n",
       "Petrol/electric hybr         17\n",
       "Petrol / electric hy         13\n",
       "5 doors                       8\n",
       "Plug_in_hybrid                7\n",
       "Hybrid electric               4\n",
       "Petrol plugin hybrid          4\n",
       "Diesel Hybrid                 1\n",
       "Petrol/elec2                  1\n",
       "Name: Fuel Type, dtype: int64"
      ]
     },
     "execution_count": 35,
     "metadata": {},
     "output_type": "execute_result"
    }
   ],
   "source": [
    "df['Fuel Type'].value_counts(dropna=False)"
   ]
  },
  {
   "cell_type": "code",
   "execution_count": 36,
   "id": "9c36d03c",
   "metadata": {},
   "outputs": [],
   "source": [
    "# '5 doors' will be filled nan in fuel type col\n",
    "\n",
    "df.loc[df[(df['Fuel Type']=='5 doors')].index, 'Fuel Type'] = np.nan"
   ]
  },
  {
   "cell_type": "code",
   "execution_count": 37,
   "id": "4a9ca534",
   "metadata": {},
   "outputs": [],
   "source": [
    "# all fuel types except hybrid or any electric combinations\n",
    "\n",
    "idx_fuel = df[(df[\"Fuel Type\"].isin(['Petrol', 'Diesel', 'Electric']))|(df[\"Fuel Type\"].isnull())]['Fuel Type'].index"
   ]
  },
  {
   "cell_type": "code",
   "execution_count": 38,
   "id": "17f36a44",
   "metadata": {},
   "outputs": [
    {
     "data": {
      "text/plain": [
       "Petrol      65222\n",
       "Diesel      30500\n",
       "NaN          8300\n",
       "Electric      293\n",
       "Name: Fuel Type, dtype: int64"
      ]
     },
     "execution_count": 38,
     "metadata": {},
     "output_type": "execute_result"
    }
   ],
   "source": [
    "df.loc[idx_fuel]['Fuel Type'].value_counts(dropna=False)"
   ]
  },
  {
   "cell_type": "code",
   "execution_count": 39,
   "id": "26e2b2e1",
   "metadata": {},
   "outputs": [
    {
     "data": {
      "text/plain": [
       "Petrol                    65222\n",
       "Diesel                    30500\n",
       "NaN                        8300\n",
       "Hybrid                     2534\n",
       "Petrol Hybrid              1893\n",
       "Petrol/Electric Hybrid      477\n",
       "Electric                    293\n",
       "Petrol hybrid               263\n",
       "Petrol Plug-in Hybrid        85\n",
       "Petrol/electric              62\n",
       "Petrol/plugin elec h         23\n",
       "Petrol plug-in hybri         20\n",
       "Petrol/electric hybr         17\n",
       "Petrol / electric hy         13\n",
       "Plug_in_hybrid                7\n",
       "Hybrid electric               4\n",
       "Petrol plugin hybrid          4\n",
       "Petrol/elec2                  1\n",
       "Diesel Hybrid                 1\n",
       "Name: Fuel Type, dtype: int64"
      ]
     },
     "execution_count": 39,
     "metadata": {},
     "output_type": "execute_result"
    }
   ],
   "source": [
    "df['Fuel Type'].value_counts(dropna=False)"
   ]
  },
  {
   "cell_type": "code",
   "execution_count": 40,
   "id": "0f3a3f4b",
   "metadata": {},
   "outputs": [],
   "source": [
    "# convert all hybrid or electric combinations fuel type to hybrid car\n",
    "\n",
    "idx_hybrid = df.drop(index=idx_fuel)['Fuel Type'].index"
   ]
  },
  {
   "cell_type": "code",
   "execution_count": 41,
   "id": "569017c4",
   "metadata": {},
   "outputs": [],
   "source": [
    "df.loc[idx_hybrid,'Fuel Type'] = 'Hybrid' "
   ]
  },
  {
   "cell_type": "code",
   "execution_count": 42,
   "id": "d25c7b55",
   "metadata": {},
   "outputs": [
    {
     "data": {
      "text/plain": [
       "Petrol      65222\n",
       "Diesel      30500\n",
       "NaN          8300\n",
       "Hybrid       5404\n",
       "Electric      293\n",
       "Name: Fuel Type, dtype: int64"
      ]
     },
     "execution_count": 42,
     "metadata": {},
     "output_type": "execute_result"
    }
   ],
   "source": [
    "df['Fuel Type'].value_counts(dropna=False)"
   ]
  },
  {
   "cell_type": "markdown",
   "id": "a500785a",
   "metadata": {},
   "source": [
    "### Consumption"
   ]
  },
  {
   "cell_type": "code",
   "execution_count": 43,
   "id": "f2dbc184",
   "metadata": {},
   "outputs": [
    {
     "data": {
      "text/plain": [
       "0.00     52984\n",
       "53.00     2237\n",
       "49.00     2000\n",
       "57.00     1985\n",
       "52.00     1922\n",
       "         ...  \n",
       "17.20        1\n",
       "35.76        1\n",
       "22.20        1\n",
       "40.35        1\n",
       "6.60         1\n",
       "Name: Consumption, Length: 239, dtype: int64"
      ]
     },
     "execution_count": 43,
     "metadata": {},
     "output_type": "execute_result"
    }
   ],
   "source": [
    "df.Consumption.value_counts()"
   ]
  },
  {
   "cell_type": "code",
   "execution_count": 44,
   "id": "77d8d87c",
   "metadata": {},
   "outputs": [],
   "source": [
    "idx_cons_el = df[(df['Fuel Type']=='Electric')&(df.Consumption==0)].index"
   ]
  },
  {
   "cell_type": "code",
   "execution_count": 45,
   "id": "3e88b3ba",
   "metadata": {},
   "outputs": [],
   "source": [
    "idx_cons_nan = df.drop(index=idx_cons_el)[(df.Consumption==0)].index"
   ]
  },
  {
   "cell_type": "code",
   "execution_count": 46,
   "id": "1014049b",
   "metadata": {},
   "outputs": [],
   "source": [
    "# 0 consumtion is impossible so convert it to nan\n",
    "\n",
    "df.loc[idx_cons_nan, 'Consumption'] = np.nan"
   ]
  },
  {
   "cell_type": "code",
   "execution_count": 47,
   "id": "f325a1a9",
   "metadata": {},
   "outputs": [
    {
     "data": {
      "text/plain": [
       "NaN      52691\n",
       "53.00     2237\n",
       "49.00     2000\n",
       "57.00     1985\n",
       "52.00     1922\n",
       "         ...  \n",
       "17.20        1\n",
       "35.76        1\n",
       "22.20        1\n",
       "40.35        1\n",
       "6.60         1\n",
       "Name: Consumption, Length: 240, dtype: int64"
      ]
     },
     "execution_count": 47,
     "metadata": {},
     "output_type": "execute_result"
    }
   ],
   "source": [
    "df.Consumption.value_counts(dropna=False)"
   ]
  },
  {
   "cell_type": "markdown",
   "id": "a8132fb1",
   "metadata": {},
   "source": [
    "### Cylinder"
   ]
  },
  {
   "cell_type": "code",
   "execution_count": 48,
   "id": "c6eeaa64",
   "metadata": {},
   "outputs": [
    {
     "data": {
      "text/plain": [
       "0     87294\n",
       "4     17167\n",
       "3      5191\n",
       "6        36\n",
       "5        26\n",
       "16        5\n",
       "Name: Cylinder, dtype: int64"
      ]
     },
     "execution_count": 48,
     "metadata": {},
     "output_type": "execute_result"
    }
   ],
   "source": [
    "df.Cylinder.value_counts()"
   ]
  },
  {
   "cell_type": "code",
   "execution_count": 49,
   "id": "b14c59f4",
   "metadata": {},
   "outputs": [],
   "source": [
    "idx_cyl_0 = df[(df.Cylinder == 0)].index"
   ]
  },
  {
   "cell_type": "code",
   "execution_count": 50,
   "id": "9a40ed83",
   "metadata": {},
   "outputs": [],
   "source": [
    "# 0 cylinder is meaningless replace nan\n",
    "\n",
    "df.loc[idx_cyl_0, 'Cylinder'] = np.nan"
   ]
  },
  {
   "cell_type": "code",
   "execution_count": 51,
   "id": "e2fd9c25",
   "metadata": {},
   "outputs": [
    {
     "data": {
      "text/plain": [
       "NaN     87294\n",
       "4.0     17167\n",
       "3.0      5191\n",
       "6.0        36\n",
       "5.0        26\n",
       "16.0        5\n",
       "Name: Cylinder, dtype: int64"
      ]
     },
     "execution_count": 51,
     "metadata": {},
     "output_type": "execute_result"
    }
   ],
   "source": [
    "df.Cylinder.value_counts(dropna=False)"
   ]
  },
  {
   "cell_type": "markdown",
   "id": "658e3c42",
   "metadata": {},
   "source": [
    "### Gears"
   ]
  },
  {
   "cell_type": "code",
   "execution_count": 52,
   "id": "5c13e0ac",
   "metadata": {},
   "outputs": [
    {
     "data": {
      "text/plain": [
       "0    107293\n",
       "6       941\n",
       "5       884\n",
       "1       521\n",
       "4        54\n",
       "7        26\n",
       "Name: Gears, dtype: int64"
      ]
     },
     "execution_count": 52,
     "metadata": {},
     "output_type": "execute_result"
    }
   ],
   "source": [
    "df.Gears.value_counts(dropna=False)"
   ]
  },
  {
   "cell_type": "markdown",
   "id": "c3f3e75c",
   "metadata": {},
   "source": [
    "0 gear is meaningless however we can extract gear information from transmission as much as we can"
   ]
  },
  {
   "cell_type": "code",
   "execution_count": 53,
   "id": "3b412b4b",
   "metadata": {},
   "outputs": [
    {
     "data": {
      "text/plain": [
       "NaN    107776\n",
       "6.0       963\n",
       "5.0       898\n",
       "4.0        54\n",
       "7.0        26\n",
       "8.0         2\n",
       "Name: Gears, dtype: int64"
      ]
     },
     "execution_count": 53,
     "metadata": {},
     "output_type": "execute_result"
    }
   ],
   "source": [
    "idx_gears_6 = df[df.Transmission.isin(['6-speed Manual', '6-speed Automatic','6-speed CVT','Manual 6 gears'])].index\n",
    "\n",
    "idx_gears_5 = df[df.Transmission.isin(['5-speed Manual', 'Manual 5 gears'])].index\n",
    "\n",
    "idx_gears_8 = df[df.Transmission.isin(['8-speed Automatic'])].index\n",
    "\n",
    "df.loc[idx_gears_6, 'Gears'] = 6\n",
    "\n",
    "df.loc[idx_gears_5, 'Gears'] = 5\n",
    "\n",
    "df.loc[idx_gears_8, 'Gears'] = 8\n",
    "\n",
    "# fill 0 gears with nan value\n",
    "\n",
    "idx_gears_0 = df[(df.Gears <= 1)].index\n",
    "\n",
    "df.loc[idx_gears_0, 'Gears'] = np.nan\n",
    "\n",
    "df.Gears.value_counts(dropna=False)"
   ]
  },
  {
   "cell_type": "markdown",
   "id": "f26b1df2",
   "metadata": {},
   "source": [
    "### Transmission\n",
    "\n",
    "There will be 2 types of transmission types. Manuel and Auto."
   ]
  },
  {
   "cell_type": "code",
   "execution_count": 54,
   "id": "51646eac",
   "metadata": {},
   "outputs": [
    {
     "data": {
      "text/plain": [
       "Manual                                82646\n",
       "Automatic                             23438\n",
       "Semiauto                               2835\n",
       "Continuously variable transmission      282\n",
       "Semi automatic                          205\n",
       "Semi auto                               122\n",
       "NaN                                      58\n",
       "Cvt                                      37\n",
       "Unlisted                                 25\n",
       "Semiautomatic                            15\n",
       "6-speed Manual                           12\n",
       "Manual 6 gears                            8\n",
       "Semi-automatic                            8\n",
       "5-speed Manual                            7\n",
       "Manual 5 gears                            7\n",
       "Dual-clutch                               5\n",
       "Dsg                                       2\n",
       "8-speed Automatic                         2\n",
       "Unknown                                   1\n",
       "Semi-auto                                 1\n",
       "Semi                                      1\n",
       "6-speed Automatic                         1\n",
       "6-speed CVT                               1\n",
       "Name: Transmission, dtype: int64"
      ]
     },
     "execution_count": 54,
     "metadata": {},
     "output_type": "execute_result"
    }
   ],
   "source": [
    "df.Transmission.value_counts(dropna=False)"
   ]
  },
  {
   "cell_type": "code",
   "execution_count": 55,
   "id": "431f78c5",
   "metadata": {},
   "outputs": [
    {
     "data": {
      "text/plain": [
       "Manual       82680\n",
       "Automatic    26955\n",
       "NaN             84\n",
       "Name: Transmission, dtype: int64"
      ]
     },
     "execution_count": 55,
     "metadata": {},
     "output_type": "execute_result"
    }
   ],
   "source": [
    "idx_tran_man = df[df.Transmission.isin(['Manual', '5-speed Manual', 'Manual 5 gears', \n",
    "                                        '6-speed Manual', 'Manual 6 gears'])].index\n",
    "\n",
    "df.loc[idx_tran_man, 'Transmission'] = 'Manual'\n",
    "\n",
    "idx_tran_auto = df[df.Transmission.isin(['Automatic', 'Semiauto', 'Continuously variable transmission', 'Semi automatic',\n",
    "                                        'Semi auto', 'Semiautomatic', 'Semi-automatic', 'Dual-clutch', 'Dsg', 'Cvt',\n",
    "                                        '8-speed Automatic', 'Semi-auto', 'Semi', '6-speed Automatic', '6-speed CVT'])].index\n",
    "\n",
    "df.loc[idx_tran_auto, 'Transmission'] = 'Automatic'\n",
    "\n",
    "idx_tran_nan = df[df.Transmission.isin([np.nan, 'Unlisted', 'Unknown'])].index\n",
    "\n",
    "df.loc[idx_tran_nan, 'Transmission'] = np.nan\n",
    "\n",
    "df.Transmission.value_counts(dropna=False)"
   ]
  },
  {
   "cell_type": "markdown",
   "id": "5c7de3de",
   "metadata": {},
   "source": [
    "### Body Type\n",
    "\n",
    "There will be 6 body type which are Hatchback, Estate, SUV, Van, Saloon and Coupe  "
   ]
  },
  {
   "cell_type": "code",
   "execution_count": 56,
   "id": "3c6dc864",
   "metadata": {},
   "outputs": [
    {
     "data": {
      "text/plain": [
       "Hatchback    74315\n",
       "Estate       15974\n",
       "SUV           9352\n",
       "NaN           6153\n",
       "Van           1700\n",
       "Saloon        1672\n",
       "Coupe          553\n",
       "Name: Body type, dtype: int64"
      ]
     },
     "execution_count": 56,
     "metadata": {},
     "output_type": "execute_result"
    }
   ],
   "source": [
    "df[\"Body type\"].value_counts()\n",
    "\n",
    "idx_body_hatc = df[df['Body type'].isin(['hatchback', 'Hatchback', '5 door hatchback', 'Hatch', '3 door hatchback',\n",
    "                        'Hatchback+ulez free','Hatchback ulez free', 'Atchback', 'Hatchback 5 door', 'Crew cab'])].index\n",
    "\n",
    "df.loc[idx_body_hatc, 'Body type'] = 'Hatchback'\n",
    "\n",
    "idx_body_est = df[df['Body type'].isin(['station_wagon', 'Estate', 'estate', 'Estate tourer'])].index\n",
    "\n",
    "df.loc[idx_body_est, 'Body type'] = 'Estate'\n",
    "\n",
    "idx_body_suv = df[df['Body type'].isin(['Suv', 'SUV', '4x4', 'suv', 'Hatchback 5 door suv', 'All terrain',\n",
    "                                       'Crossover', 'Sports utility vehicle', '2.2L', '0'])].index\n",
    "\n",
    "df.loc[idx_body_suv, 'Body type'] = 'SUV'\n",
    "\n",
    "idx_body_sal = df[df['Body type'].isin(['Saloon', 'saloon'])].index\n",
    "\n",
    "df.loc[idx_body_sal, 'Body type'] = 'Saloon'\n",
    "\n",
    "idx_body_van = df[df['Body type'].isin(['mpv', 'panel_van', 'Mpv', 'Car derived van', 'minivan', 'Panel van','Van'])].index\n",
    "\n",
    "df.loc[idx_body_van, 'Body type'] = 'Van'\n",
    "\n",
    "idx_body_coupe = df[df['Body type'].isin(['Coupe', 'coupe', '3 door coupe', 'Sports', 'cabriolet', \n",
    "                                          'Convertible', 'convertible','Cabriolet'])].index\n",
    "\n",
    "df.loc[idx_body_coupe, 'Body type'] = 'Coupe'\n",
    "\n",
    "idx_body_nan = df[df['Body type'].isin(['Other'])].index\n",
    "\n",
    "df.loc[idx_body_nan, 'Body type'] = np.nan\n",
    "\n",
    "df[\"Body type\"].value_counts(dropna=False)"
   ]
  },
  {
   "cell_type": "markdown",
   "id": "7723425a",
   "metadata": {},
   "source": [
    "### Door"
   ]
  },
  {
   "cell_type": "code",
   "execution_count": 57,
   "id": "1214c47e",
   "metadata": {
    "scrolled": true
   },
   "outputs": [
    {
     "data": {
      "text/plain": [
       "5    83217\n",
       "3    14380\n",
       "0    10079\n",
       "4     1666\n",
       "2      377\n",
       "Name: Door, dtype: int64"
      ]
     },
     "execution_count": 57,
     "metadata": {},
     "output_type": "execute_result"
    }
   ],
   "source": [
    "df.Door.value_counts()"
   ]
  },
  {
   "cell_type": "code",
   "execution_count": 58,
   "id": "8bb0fab8",
   "metadata": {},
   "outputs": [
    {
     "data": {
      "text/plain": [
       "5.0    83217\n",
       "3.0    14380\n",
       "NaN    10079\n",
       "4.0     1666\n",
       "2.0      377\n",
       "Name: Door, dtype: int64"
      ]
     },
     "execution_count": 58,
     "metadata": {},
     "output_type": "execute_result"
    }
   ],
   "source": [
    "# 0 door is meaningless\n",
    "\n",
    "idx_door_nan = df[df['Door']==0].index\n",
    "\n",
    "df.loc[idx_door_nan ,'Door'] = np.nan\n",
    "\n",
    "df.Door.value_counts(dropna=False)"
   ]
  },
  {
   "cell_type": "markdown",
   "id": "effbbfaf",
   "metadata": {},
   "source": [
    "### Power\n",
    "\n",
    "0 power will be replace nan"
   ]
  },
  {
   "cell_type": "code",
   "execution_count": 59,
   "id": "30cf5331",
   "metadata": {},
   "outputs": [
    {
     "data": {
      "text/plain": [
       "0.00      87267\n",
       "148.00     2115\n",
       "138.00     1789\n",
       "67.00      1450\n",
       "69.00      1347\n",
       "          ...  \n",
       "193.00        1\n",
       "50.00         1\n",
       "170.00        1\n",
       "140.14        1\n",
       "162.00        1\n",
       "Name: Power, Length: 132, dtype: int64"
      ]
     },
     "execution_count": 59,
     "metadata": {},
     "output_type": "execute_result"
    }
   ],
   "source": [
    "df.Power.value_counts(dropna=False)"
   ]
  },
  {
   "cell_type": "code",
   "execution_count": 60,
   "id": "25213766",
   "metadata": {},
   "outputs": [
    {
     "data": {
      "text/plain": [
       "Make        Model_1 \n",
       "Ford        Fiesta      103.678848\n",
       "            Focus       132.068085\n",
       "            KA           68.907059\n",
       "            Kuga        148.530271\n",
       "            Mondeo      153.591119\n",
       "            Polo         99.000000\n",
       "Toyota      Auris       121.088587\n",
       "            Avensis     133.742215\n",
       "            Aygo         68.311230\n",
       "            RAV4        172.009915\n",
       "            Yaris       102.141271\n",
       "Vauxhall    ADAM         77.020979\n",
       "            Astra       124.625000\n",
       "            Corsa        86.606747\n",
       "            Insignia    151.134904\n",
       "            Kuga        113.000000\n",
       "            Mokka       135.521341\n",
       "Volkswagen  Golf        152.820366\n",
       "            Passat      147.216304\n",
       "            Polo         87.452775\n",
       "            Scirocco    167.525956\n",
       "            Tiguan      152.104857\n",
       "Name: Power, dtype: float64"
      ]
     },
     "execution_count": 60,
     "metadata": {},
     "output_type": "execute_result"
    }
   ],
   "source": [
    "idx_pwr = df[(df.Power == 0)].index\n",
    "\n",
    "df.drop(index=idx_pwr).groupby(['Make', 'Model_1']).Power.mean()"
   ]
  },
  {
   "cell_type": "code",
   "execution_count": 61,
   "id": "9423fd96",
   "metadata": {},
   "outputs": [],
   "source": [
    "# there are some problem make model combination which is needed to be corrected.\n",
    "\n",
    "df.loc[df[(df.Make == 'Ford') & (df.Model_1 == 'Polo')].index, 'Make'] = 'Volkswagen'\n",
    "\n",
    "df.loc[df[(df.Make == 'Vauxhall') & (df.Model_1 == 'Kuga')].index, 'Make'] = 'Ford'"
   ]
  },
  {
   "cell_type": "code",
   "execution_count": 62,
   "id": "625941ac",
   "metadata": {},
   "outputs": [],
   "source": [
    "# if power is 0 set that to NaN\n",
    "\n",
    "df.loc[idx_pwr, 'Power'] = np.nan\n",
    "\n",
    "df['Model_2'] = df.Model.apply(lambda x: x.lower())"
   ]
  },
  {
   "cell_type": "markdown",
   "id": "4d794480",
   "metadata": {},
   "source": [
    "### CO2 emission"
   ]
  },
  {
   "cell_type": "code",
   "execution_count": 63,
   "id": "3175a6fc",
   "metadata": {},
   "outputs": [
    {
     "data": {
      "text/plain": [
       "0.0      11515\n",
       "99.0      3476\n",
       "128.0     3021\n",
       "129.0     2938\n",
       "114.0     2898\n",
       "         ...  \n",
       "314.0        1\n",
       "213.0        1\n",
       "242.0        1\n",
       "240.0        1\n",
       "228.0        1\n",
       "Name: CO2 emission, Length: 193, dtype: int64"
      ]
     },
     "execution_count": 63,
     "metadata": {},
     "output_type": "execute_result"
    }
   ],
   "source": [
    "df[\"CO2 emission\"].value_counts()"
   ]
  },
  {
   "cell_type": "code",
   "execution_count": 64,
   "id": "50c1698a",
   "metadata": {},
   "outputs": [
    {
     "data": {
      "text/plain": [
       "NaN      11222\n",
       "99.0      3476\n",
       "128.0     3021\n",
       "129.0     2938\n",
       "114.0     2898\n",
       "         ...  \n",
       "43.0         1\n",
       "200.0        1\n",
       "47.0         1\n",
       "278.0        1\n",
       "245.0        1\n",
       "Name: CO2 emission, Length: 194, dtype: int64"
      ]
     },
     "execution_count": 64,
     "metadata": {},
     "output_type": "execute_result"
    }
   ],
   "source": [
    "# 0 CO2 emission is a false value for non-EV\n",
    "\n",
    "idx_co2 = df[(df['CO2 emission'] == 0)&(df['Fuel Type'] != 'Electric')].index\n",
    "\n",
    "df.loc[idx_co2, 'CO2 emission'] = np.nan\n",
    "\n",
    "df[\"CO2 emission\"].value_counts(dropna=False)"
   ]
  },
  {
   "cell_type": "markdown",
   "id": "056a7ffb",
   "metadata": {},
   "source": [
    "### Seat"
   ]
  },
  {
   "cell_type": "code",
   "execution_count": 65,
   "id": "646eefdf",
   "metadata": {},
   "outputs": [
    {
     "data": {
      "text/plain": [
       "5    60416\n",
       "0    40730\n",
       "4     8560\n",
       "2        9\n",
       "7        4\n",
       "Name: Seat, dtype: int64"
      ]
     },
     "execution_count": 65,
     "metadata": {},
     "output_type": "execute_result"
    }
   ],
   "source": [
    "df.Seat.value_counts()"
   ]
  },
  {
   "cell_type": "code",
   "execution_count": 66,
   "id": "79160a2d",
   "metadata": {},
   "outputs": [
    {
     "data": {
      "text/plain": [
       "5.0    60416\n",
       "NaN    40730\n",
       "4.0     8560\n",
       "2.0        9\n",
       "7.0        4\n",
       "Name: Seat, dtype: int64"
      ]
     },
     "execution_count": 66,
     "metadata": {},
     "output_type": "execute_result"
    }
   ],
   "source": [
    "# 0 seat is meaningless\n",
    "\n",
    "idx_seat = df[(df['Seat'] == 0)].index\n",
    "\n",
    "df.loc[idx_seat, 'Seat'] = np.nan\n",
    "\n",
    "df.Seat.value_counts(dropna=0)"
   ]
  },
  {
   "cell_type": "markdown",
   "id": "e2a2c78d",
   "metadata": {},
   "source": [
    "### Engine size"
   ]
  },
  {
   "cell_type": "code",
   "execution_count": 67,
   "id": "c7e1fca2",
   "metadata": {},
   "outputs": [
    {
     "data": {
      "text/plain": [
       "2.0    21858\n",
       "1.0    19965\n",
       "1.4    15124\n",
       "1.5    13680\n",
       "1.2    10374\n",
       "1.6    10291\n",
       "0.0     9652\n",
       "1.8     2838\n",
       "2.5     1743\n",
       "1.3     1665\n",
       "1.1      961\n",
       "2.2      696\n",
       "1.7      322\n",
       "2.3      239\n",
       "1.9      147\n",
       "2.8       83\n",
       "3.2       54\n",
       "3.0       12\n",
       "2.4        7\n",
       "3.6        4\n",
       "4.0        3\n",
       "0.1        1\n",
       "Name: Engine size, dtype: int64"
      ]
     },
     "execution_count": 67,
     "metadata": {},
     "output_type": "execute_result"
    }
   ],
   "source": [
    "df[\"Engine size\"].value_counts(dropna=0)"
   ]
  },
  {
   "cell_type": "code",
   "execution_count": 68,
   "id": "ea32b6ec",
   "metadata": {},
   "outputs": [
    {
     "data": {
      "text/plain": [
       "2.0    21858\n",
       "1.0    19965\n",
       "1.4    15124\n",
       "1.5    13680\n",
       "1.2    10374\n",
       "1.6    10291\n",
       "NaN     9653\n",
       "1.8     2838\n",
       "2.5     1743\n",
       "1.3     1665\n",
       "1.1      961\n",
       "2.2      696\n",
       "1.7      322\n",
       "2.3      239\n",
       "1.9      147\n",
       "2.8       83\n",
       "3.2       54\n",
       "3.0       12\n",
       "2.4        7\n",
       "3.6        4\n",
       "4.0        3\n",
       "Name: Engine size, dtype: int64"
      ]
     },
     "execution_count": 68,
     "metadata": {},
     "output_type": "execute_result"
    }
   ],
   "source": [
    "# 0 or 0.1 engine size are false values\n",
    "\n",
    "idx_eng_0 = df[(df['Engine size'].isin([0, 0.1]))].index\n",
    "\n",
    "df.loc[idx_eng_0, 'Engine size'] = np.nan\n",
    "\n",
    "df[\"Engine size\"].value_counts(dropna=0)"
   ]
  },
  {
   "cell_type": "markdown",
   "id": "d5c20692",
   "metadata": {},
   "source": [
    "## Outliers\n",
    "\n",
    "Price is the target columns so we need to check if there are outliers here."
   ]
  },
  {
   "cell_type": "code",
   "execution_count": 69,
   "id": "d381a464",
   "metadata": {},
   "outputs": [
    {
     "data": {
      "text/plain": [
       "<Axes: >"
      ]
     },
     "execution_count": 69,
     "metadata": {},
     "output_type": "execute_result"
    },
    {
     "data": {
      "image/png": "[encoded data removed]",
      "text/plain": [
       "<Figure size 640x480 with 1 Axes>"
      ]
     },
     "metadata": {},
     "output_type": "display_data"
    }
   ],
   "source": [
    "# Price highly correlated year and mileage.\n",
    "\n",
    "df.corr()[\"Price\"].sort_values().head(10).plot.barh()"
   ]
  },
  {
   "cell_type": "code",
   "execution_count": 70,
   "id": "a5040cc2",
   "metadata": {},
   "outputs": [
    {
     "data": {
      "text/plain": [
       "<Axes: xlabel='Price', ylabel='Density'>"
      ]
     },
     "execution_count": 70,
     "metadata": {},
     "output_type": "execute_result"
    },
    {
     "data": {
      "image/png": "[encoded data removed]",
      "text/plain": [
       "<Figure size 640x480 with 1 Axes>"
      ]
     },
     "metadata": {},
     "output_type": "display_data"
    }
   ],
   "source": [
    "# it is impossible to have car over £60000 in our dataset \n",
    "\n",
    "sns.distplot(df.Price)"
   ]
  },
  {
   "cell_type": "code",
   "execution_count": 71,
   "id": "104db745",
   "metadata": {},
   "outputs": [
    {
     "data": {
      "text/plain": [
       "<Axes: >"
      ]
     },
     "execution_count": 71,
     "metadata": {},
     "output_type": "execute_result"
    },
    {
     "data": {
      "image/png": "[encoded data removed]",
      "text/plain": [
       "<Figure size 640x480 with 1 Axes>"
      ]
     },
     "metadata": {},
     "output_type": "display_data"
    }
   ],
   "source": [
    "# it is clearly seen that there are several outliers in target col.\n",
    "\n",
    "sns.boxplot(df.Price, orient=\"h\")"
   ]
  },
  {
   "cell_type": "markdown",
   "id": "fd577285",
   "metadata": {},
   "source": [
    "### Cleaning outliers"
   ]
  },
  {
   "cell_type": "code",
   "execution_count": 72,
   "id": "d4192c1b",
   "metadata": {
    "scrolled": true
   },
   "outputs": [
    {
     "data": {
      "text/html": [
       "<div>\n",
       "<style scoped>\n",
       "    .dataframe tbody tr th:only-of-type {\n",
       "        vertical-align: middle;\n",
       "    }\n",
       "\n",
       "    .dataframe tbody tr th {\n",
       "        vertical-align: top;\n",
       "    }\n",
       "\n",
       "    .dataframe thead th {\n",
       "        text-align: right;\n",
       "    }\n",
       "</style>\n",
       "<table border=\"1\" class=\"dataframe\">\n",
       "  <thead>\n",
       "    <tr style=\"text-align: right;\">\n",
       "      <th></th>\n",
       "      <th>Date</th>\n",
       "      <th>Source</th>\n",
       "      <th>Make</th>\n",
       "      <th>Model</th>\n",
       "      <th>Price</th>\n",
       "      <th>Milage</th>\n",
       "      <th>Year</th>\n",
       "      <th>Power</th>\n",
       "      <th>Consumption</th>\n",
       "      <th>Cylinder</th>\n",
       "      <th>...</th>\n",
       "      <th>Fuel Type</th>\n",
       "      <th>Transmission</th>\n",
       "      <th>Body type</th>\n",
       "      <th>CO2 emission</th>\n",
       "      <th>Door</th>\n",
       "      <th>Seat</th>\n",
       "      <th>Engine size</th>\n",
       "      <th>data_source</th>\n",
       "      <th>Model_1</th>\n",
       "      <th>Model_2</th>\n",
       "    </tr>\n",
       "  </thead>\n",
       "  <tbody>\n",
       "    <tr>\n",
       "      <th>2522</th>\n",
       "      <td>2010-01-18</td>\n",
       "      <td>https://www.cargurus.co.uk/Cars/detailListingJ...</td>\n",
       "      <td>Toyota</td>\n",
       "      <td>AYGO</td>\n",
       "      <td>157440.0</td>\n",
       "      <td>NaN</td>\n",
       "      <td>2010</td>\n",
       "      <td>NaN</td>\n",
       "      <td>NaN</td>\n",
       "      <td>NaN</td>\n",
       "      <td>...</td>\n",
       "      <td>Petrol</td>\n",
       "      <td>Automatic</td>\n",
       "      <td>Hatchback</td>\n",
       "      <td>NaN</td>\n",
       "      <td>5.0</td>\n",
       "      <td>4.0</td>\n",
       "      <td>1.0</td>\n",
       "      <td>cargurus</td>\n",
       "      <td>Aygo</td>\n",
       "      <td>aygo</td>\n",
       "    </tr>\n",
       "    <tr>\n",
       "      <th>6867</th>\n",
       "      <td>0000-00-00</td>\n",
       "      <td>https://www.theaa.com/used-cars/cardetails/57-...</td>\n",
       "      <td>Toyota</td>\n",
       "      <td>Yaris Hatchback</td>\n",
       "      <td>113450.0</td>\n",
       "      <td>21639.0</td>\n",
       "      <td>2019</td>\n",
       "      <td>NaN</td>\n",
       "      <td>NaN</td>\n",
       "      <td>NaN</td>\n",
       "      <td>...</td>\n",
       "      <td>Petrol</td>\n",
       "      <td>Manual</td>\n",
       "      <td>Hatchback</td>\n",
       "      <td>116.0</td>\n",
       "      <td>5.0</td>\n",
       "      <td>NaN</td>\n",
       "      <td>1.5</td>\n",
       "      <td>theaa</td>\n",
       "      <td>Yaris</td>\n",
       "      <td>yaris hatchback</td>\n",
       "    </tr>\n",
       "    <tr>\n",
       "      <th>31997</th>\n",
       "      <td>0000-00-00</td>\n",
       "      <td>https://www.autotrader.co.uk/car-details/20220...</td>\n",
       "      <td>Volkswagen</td>\n",
       "      <td>Passat</td>\n",
       "      <td>97655.0</td>\n",
       "      <td>97655.0</td>\n",
       "      <td>2016</td>\n",
       "      <td>118.0</td>\n",
       "      <td>60.1</td>\n",
       "      <td>4.0</td>\n",
       "      <td>...</td>\n",
       "      <td>Diesel</td>\n",
       "      <td>Manual</td>\n",
       "      <td>Saloon</td>\n",
       "      <td>105.0</td>\n",
       "      <td>4.0</td>\n",
       "      <td>5.0</td>\n",
       "      <td>1.6</td>\n",
       "      <td>autotrader</td>\n",
       "      <td>Passat</td>\n",
       "      <td>passat</td>\n",
       "    </tr>\n",
       "    <tr>\n",
       "      <th>37640</th>\n",
       "      <td>0000-00-00</td>\n",
       "      <td>https://www.theaa.com/used-cars/cardetails/59-...</td>\n",
       "      <td>Volkswagen</td>\n",
       "      <td>PASSAT</td>\n",
       "      <td>97655.0</td>\n",
       "      <td>97655.0</td>\n",
       "      <td>2016</td>\n",
       "      <td>NaN</td>\n",
       "      <td>NaN</td>\n",
       "      <td>NaN</td>\n",
       "      <td>...</td>\n",
       "      <td>Diesel</td>\n",
       "      <td>Manual</td>\n",
       "      <td>Saloon</td>\n",
       "      <td>105.0</td>\n",
       "      <td>4.0</td>\n",
       "      <td>NaN</td>\n",
       "      <td>1.6</td>\n",
       "      <td>theaa</td>\n",
       "      <td>Passat</td>\n",
       "      <td>passat</td>\n",
       "    </tr>\n",
       "    <tr>\n",
       "      <th>56054</th>\n",
       "      <td>0000-00-00</td>\n",
       "      <td>https://www.theaa.com/used-cars/cardetails/137...</td>\n",
       "      <td>Volkswagen</td>\n",
       "      <td>Tiguan</td>\n",
       "      <td>69999.0</td>\n",
       "      <td>4.0</td>\n",
       "      <td>2022</td>\n",
       "      <td>NaN</td>\n",
       "      <td>NaN</td>\n",
       "      <td>NaN</td>\n",
       "      <td>...</td>\n",
       "      <td>Petrol</td>\n",
       "      <td>Automatic</td>\n",
       "      <td>SUV</td>\n",
       "      <td>226.0</td>\n",
       "      <td>5.0</td>\n",
       "      <td>NaN</td>\n",
       "      <td>2.0</td>\n",
       "      <td>theaa</td>\n",
       "      <td>Tiguan</td>\n",
       "      <td>tiguan</td>\n",
       "    </tr>\n",
       "    <tr>\n",
       "      <th>57643</th>\n",
       "      <td>0000-00-00</td>\n",
       "      <td>https://www.parkers.co.uk/toyota/yaris/hatchba...</td>\n",
       "      <td>Toyota</td>\n",
       "      <td>Yaris</td>\n",
       "      <td>113450.0</td>\n",
       "      <td>21639.0</td>\n",
       "      <td>2019</td>\n",
       "      <td>109.0</td>\n",
       "      <td>5.8</td>\n",
       "      <td>4.0</td>\n",
       "      <td>...</td>\n",
       "      <td>Petrol</td>\n",
       "      <td>Manual</td>\n",
       "      <td>NaN</td>\n",
       "      <td>116.0</td>\n",
       "      <td>5.0</td>\n",
       "      <td>5.0</td>\n",
       "      <td>1.5</td>\n",
       "      <td>parkers</td>\n",
       "      <td>Yaris</td>\n",
       "      <td>yaris</td>\n",
       "    </tr>\n",
       "    <tr>\n",
       "      <th>68521</th>\n",
       "      <td>2009-02-23</td>\n",
       "      <td>https://www.cargurus.co.uk/Cars/detailListingJ...</td>\n",
       "      <td>Vauxhall</td>\n",
       "      <td>Corsa</td>\n",
       "      <td>70995.0</td>\n",
       "      <td>NaN</td>\n",
       "      <td>2009</td>\n",
       "      <td>NaN</td>\n",
       "      <td>34.0</td>\n",
       "      <td>NaN</td>\n",
       "      <td>...</td>\n",
       "      <td>Petrol</td>\n",
       "      <td>Manual</td>\n",
       "      <td>Hatchback</td>\n",
       "      <td>190.0</td>\n",
       "      <td>3.0</td>\n",
       "      <td>5.0</td>\n",
       "      <td>1.6</td>\n",
       "      <td>cargurus</td>\n",
       "      <td>Corsa</td>\n",
       "      <td>corsa</td>\n",
       "    </tr>\n",
       "    <tr>\n",
       "      <th>68565</th>\n",
       "      <td>2010-03-19</td>\n",
       "      <td>https://www.cargurus.co.uk/Cars/detailListingJ...</td>\n",
       "      <td>Vauxhall</td>\n",
       "      <td>Corsa</td>\n",
       "      <td>81995.0</td>\n",
       "      <td>NaN</td>\n",
       "      <td>2010</td>\n",
       "      <td>NaN</td>\n",
       "      <td>NaN</td>\n",
       "      <td>NaN</td>\n",
       "      <td>...</td>\n",
       "      <td>NaN</td>\n",
       "      <td>Automatic</td>\n",
       "      <td>Hatchback</td>\n",
       "      <td>NaN</td>\n",
       "      <td>5.0</td>\n",
       "      <td>5.0</td>\n",
       "      <td>NaN</td>\n",
       "      <td>cargurus</td>\n",
       "      <td>Corsa</td>\n",
       "      <td>corsa</td>\n",
       "    </tr>\n",
       "    <tr>\n",
       "      <th>80763</th>\n",
       "      <td>2016-09-23</td>\n",
       "      <td>https://www.cargurus.co.uk/Cars/detailListingJ...</td>\n",
       "      <td>Volkswagen</td>\n",
       "      <td>Golf</td>\n",
       "      <td>189495.0</td>\n",
       "      <td>33000.0</td>\n",
       "      <td>2016</td>\n",
       "      <td>NaN</td>\n",
       "      <td>45.0</td>\n",
       "      <td>NaN</td>\n",
       "      <td>...</td>\n",
       "      <td>Petrol</td>\n",
       "      <td>Manual</td>\n",
       "      <td>Hatchback</td>\n",
       "      <td>139.0</td>\n",
       "      <td>5.0</td>\n",
       "      <td>5.0</td>\n",
       "      <td>2.0</td>\n",
       "      <td>cargurus</td>\n",
       "      <td>Golf</td>\n",
       "      <td>golf</td>\n",
       "    </tr>\n",
       "    <tr>\n",
       "      <th>87115</th>\n",
       "      <td>2010-05-18</td>\n",
       "      <td>https://www.cargurus.co.uk/Cars/detailListingJ...</td>\n",
       "      <td>Volkswagen</td>\n",
       "      <td>Tiguan</td>\n",
       "      <td>500000.0</td>\n",
       "      <td>1000.0</td>\n",
       "      <td>2010</td>\n",
       "      <td>NaN</td>\n",
       "      <td>NaN</td>\n",
       "      <td>NaN</td>\n",
       "      <td>...</td>\n",
       "      <td>Diesel</td>\n",
       "      <td>Manual</td>\n",
       "      <td>Estate</td>\n",
       "      <td>NaN</td>\n",
       "      <td>NaN</td>\n",
       "      <td>NaN</td>\n",
       "      <td>2.0</td>\n",
       "      <td>cargurus</td>\n",
       "      <td>Tiguan</td>\n",
       "      <td>tiguan</td>\n",
       "    </tr>\n",
       "    <tr>\n",
       "      <th>87142</th>\n",
       "      <td>2016-06-02</td>\n",
       "      <td>https://www.cargurus.co.uk/Cars/detailListingJ...</td>\n",
       "      <td>Volkswagen</td>\n",
       "      <td>Passat</td>\n",
       "      <td>97655.0</td>\n",
       "      <td>97655.0</td>\n",
       "      <td>2016</td>\n",
       "      <td>NaN</td>\n",
       "      <td>68.0</td>\n",
       "      <td>NaN</td>\n",
       "      <td>...</td>\n",
       "      <td>Diesel</td>\n",
       "      <td>Manual</td>\n",
       "      <td>Saloon</td>\n",
       "      <td>106.0</td>\n",
       "      <td>4.0</td>\n",
       "      <td>5.0</td>\n",
       "      <td>1.6</td>\n",
       "      <td>cargurus</td>\n",
       "      <td>Passat</td>\n",
       "      <td>passat</td>\n",
       "    </tr>\n",
       "    <tr>\n",
       "      <th>98437</th>\n",
       "      <td>2018-04-28</td>\n",
       "      <td>https://www.cargurus.co.uk/Cars/detailListingJ...</td>\n",
       "      <td>Ford</td>\n",
       "      <td>Focus</td>\n",
       "      <td>68000.0</td>\n",
       "      <td>14000.0</td>\n",
       "      <td>2018</td>\n",
       "      <td>NaN</td>\n",
       "      <td>35.0</td>\n",
       "      <td>NaN</td>\n",
       "      <td>...</td>\n",
       "      <td>Petrol</td>\n",
       "      <td>Manual</td>\n",
       "      <td>Hatchback</td>\n",
       "      <td>175.0</td>\n",
       "      <td>5.0</td>\n",
       "      <td>5.0</td>\n",
       "      <td>2.3</td>\n",
       "      <td>cargurus</td>\n",
       "      <td>Focus</td>\n",
       "      <td>focus</td>\n",
       "    </tr>\n",
       "    <tr>\n",
       "      <th>103746</th>\n",
       "      <td>2021-09-29</td>\n",
       "      <td>https://www.cargurus.co.uk/Cars/detailListingJ...</td>\n",
       "      <td>Ford</td>\n",
       "      <td>Focus</td>\n",
       "      <td>229995.0</td>\n",
       "      <td>500.0</td>\n",
       "      <td>2021</td>\n",
       "      <td>NaN</td>\n",
       "      <td>NaN</td>\n",
       "      <td>NaN</td>\n",
       "      <td>...</td>\n",
       "      <td>Petrol</td>\n",
       "      <td>Automatic</td>\n",
       "      <td>Hatchback</td>\n",
       "      <td>NaN</td>\n",
       "      <td>5.0</td>\n",
       "      <td>5.0</td>\n",
       "      <td>1.0</td>\n",
       "      <td>cargurus</td>\n",
       "      <td>Focus</td>\n",
       "      <td>focus</td>\n",
       "    </tr>\n",
       "    <tr>\n",
       "      <th>105455</th>\n",
       "      <td>2018-04-21</td>\n",
       "      <td>https://www.cargurus.co.uk/Cars/detailListingJ...</td>\n",
       "      <td>Ford</td>\n",
       "      <td>Focus</td>\n",
       "      <td>67990.0</td>\n",
       "      <td>500.0</td>\n",
       "      <td>2018</td>\n",
       "      <td>NaN</td>\n",
       "      <td>35.0</td>\n",
       "      <td>NaN</td>\n",
       "      <td>...</td>\n",
       "      <td>Petrol</td>\n",
       "      <td>Manual</td>\n",
       "      <td>Hatchback</td>\n",
       "      <td>175.0</td>\n",
       "      <td>5.0</td>\n",
       "      <td>5.0</td>\n",
       "      <td>2.3</td>\n",
       "      <td>cargurus</td>\n",
       "      <td>Focus</td>\n",
       "      <td>focus</td>\n",
       "    </tr>\n",
       "  </tbody>\n",
       "</table>\n",
       "<p>14 rows × 21 columns</p>\n",
       "</div>"
      ],
      "text/plain": [
       "              Date                                             Source  \\\n",
       "2522    2010-01-18  https://www.cargurus.co.uk/Cars/detailListingJ...   \n",
       "6867    0000-00-00  https://www.theaa.com/used-cars/cardetails/57-...   \n",
       "31997   0000-00-00  https://www.autotrader.co.uk/car-details/20220...   \n",
       "37640   0000-00-00  https://www.theaa.com/used-cars/cardetails/59-...   \n",
       "56054   0000-00-00  https://www.theaa.com/used-cars/cardetails/137...   \n",
       "57643   0000-00-00  https://www.parkers.co.uk/toyota/yaris/hatchba...   \n",
       "68521   2009-02-23  https://www.cargurus.co.uk/Cars/detailListingJ...   \n",
       "68565   2010-03-19  https://www.cargurus.co.uk/Cars/detailListingJ...   \n",
       "80763   2016-09-23  https://www.cargurus.co.uk/Cars/detailListingJ...   \n",
       "87115   2010-05-18  https://www.cargurus.co.uk/Cars/detailListingJ...   \n",
       "87142   2016-06-02  https://www.cargurus.co.uk/Cars/detailListingJ...   \n",
       "98437   2018-04-28  https://www.cargurus.co.uk/Cars/detailListingJ...   \n",
       "103746  2021-09-29  https://www.cargurus.co.uk/Cars/detailListingJ...   \n",
       "105455  2018-04-21  https://www.cargurus.co.uk/Cars/detailListingJ...   \n",
       "\n",
       "              Make            Model     Price   Milage  Year  Power  \\\n",
       "2522        Toyota             AYGO  157440.0      NaN  2010    NaN   \n",
       "6867        Toyota  Yaris Hatchback  113450.0  21639.0  2019    NaN   \n",
       "31997   Volkswagen           Passat   97655.0  97655.0  2016  118.0   \n",
       "37640   Volkswagen           PASSAT   97655.0  97655.0  2016    NaN   \n",
       "56054   Volkswagen           Tiguan   69999.0      4.0  2022    NaN   \n",
       "57643       Toyota            Yaris  113450.0  21639.0  2019  109.0   \n",
       "68521     Vauxhall            Corsa   70995.0      NaN  2009    NaN   \n",
       "68565     Vauxhall            Corsa   81995.0      NaN  2010    NaN   \n",
       "80763   Volkswagen             Golf  189495.0  33000.0  2016    NaN   \n",
       "87115   Volkswagen           Tiguan  500000.0   1000.0  2010    NaN   \n",
       "87142   Volkswagen           Passat   97655.0  97655.0  2016    NaN   \n",
       "98437         Ford            Focus   68000.0  14000.0  2018    NaN   \n",
       "103746        Ford            Focus  229995.0    500.0  2021    NaN   \n",
       "105455        Ford            Focus   67990.0    500.0  2018    NaN   \n",
       "\n",
       "        Consumption  Cylinder  ...  Fuel Type Transmission  Body type  \\\n",
       "2522            NaN       NaN  ...     Petrol    Automatic  Hatchback   \n",
       "6867            NaN       NaN  ...     Petrol       Manual  Hatchback   \n",
       "31997          60.1       4.0  ...     Diesel       Manual     Saloon   \n",
       "37640           NaN       NaN  ...     Diesel       Manual     Saloon   \n",
       "56054           NaN       NaN  ...     Petrol    Automatic        SUV   \n",
       "57643           5.8       4.0  ...     Petrol       Manual        NaN   \n",
       "68521          34.0       NaN  ...     Petrol       Manual  Hatchback   \n",
       "68565           NaN       NaN  ...        NaN    Automatic  Hatchback   \n",
       "80763          45.0       NaN  ...     Petrol       Manual  Hatchback   \n",
       "87115           NaN       NaN  ...     Diesel       Manual     Estate   \n",
       "87142          68.0       NaN  ...     Diesel       Manual     Saloon   \n",
       "98437          35.0       NaN  ...     Petrol       Manual  Hatchback   \n",
       "103746          NaN       NaN  ...     Petrol    Automatic  Hatchback   \n",
       "105455         35.0       NaN  ...     Petrol       Manual  Hatchback   \n",
       "\n",
       "       CO2 emission  Door  Seat  Engine size  data_source Model_1  \\\n",
       "2522            NaN   5.0   4.0          1.0     cargurus    Aygo   \n",
       "6867          116.0   5.0   NaN          1.5        theaa   Yaris   \n",
       "31997         105.0   4.0   5.0          1.6   autotrader  Passat   \n",
       "37640         105.0   4.0   NaN          1.6        theaa  Passat   \n",
       "56054         226.0   5.0   NaN          2.0        theaa  Tiguan   \n",
       "57643         116.0   5.0   5.0          1.5      parkers   Yaris   \n",
       "68521         190.0   3.0   5.0          1.6     cargurus   Corsa   \n",
       "68565           NaN   5.0   5.0          NaN     cargurus   Corsa   \n",
       "80763         139.0   5.0   5.0          2.0     cargurus    Golf   \n",
       "87115           NaN   NaN   NaN          2.0     cargurus  Tiguan   \n",
       "87142         106.0   4.0   5.0          1.6     cargurus  Passat   \n",
       "98437         175.0   5.0   5.0          2.3     cargurus   Focus   \n",
       "103746          NaN   5.0   5.0          1.0     cargurus   Focus   \n",
       "105455        175.0   5.0   5.0          2.3     cargurus   Focus   \n",
       "\n",
       "                Model_2  \n",
       "2522               aygo  \n",
       "6867    yaris hatchback  \n",
       "31997            passat  \n",
       "37640            passat  \n",
       "56054            tiguan  \n",
       "57643             yaris  \n",
       "68521             corsa  \n",
       "68565             corsa  \n",
       "80763              golf  \n",
       "87115            tiguan  \n",
       "87142            passat  \n",
       "98437             focus  \n",
       "103746            focus  \n",
       "105455            focus  \n",
       "\n",
       "[14 rows x 21 columns]"
      ]
     },
     "execution_count": 72,
     "metadata": {},
     "output_type": "execute_result"
    }
   ],
   "source": [
    "# Selected make and model are not over £60000\n",
    "\n",
    "high_price = (df[df['Price']>=60000]).index\n",
    "\n",
    "df.loc[high_price]"
   ]
  },
  {
   "cell_type": "code",
   "execution_count": 73,
   "id": "7d534ba1",
   "metadata": {
    "scrolled": true
   },
   "outputs": [
    {
     "data": {
      "text/html": [
       "<div>\n",
       "<style scoped>\n",
       "    .dataframe tbody tr th:only-of-type {\n",
       "        vertical-align: middle;\n",
       "    }\n",
       "\n",
       "    .dataframe tbody tr th {\n",
       "        vertical-align: top;\n",
       "    }\n",
       "\n",
       "    .dataframe thead th {\n",
       "        text-align: right;\n",
       "    }\n",
       "</style>\n",
       "<table border=\"1\" class=\"dataframe\">\n",
       "  <thead>\n",
       "    <tr style=\"text-align: right;\">\n",
       "      <th></th>\n",
       "      <th>Date</th>\n",
       "      <th>Source</th>\n",
       "      <th>Make</th>\n",
       "      <th>Model</th>\n",
       "      <th>Price</th>\n",
       "      <th>Milage</th>\n",
       "      <th>Year</th>\n",
       "      <th>Power</th>\n",
       "      <th>Consumption</th>\n",
       "      <th>Cylinder</th>\n",
       "      <th>...</th>\n",
       "      <th>Fuel Type</th>\n",
       "      <th>Transmission</th>\n",
       "      <th>Body type</th>\n",
       "      <th>CO2 emission</th>\n",
       "      <th>Door</th>\n",
       "      <th>Seat</th>\n",
       "      <th>Engine size</th>\n",
       "      <th>data_source</th>\n",
       "      <th>Model_1</th>\n",
       "      <th>Model_2</th>\n",
       "    </tr>\n",
       "  </thead>\n",
       "  <tbody>\n",
       "    <tr>\n",
       "      <th>21038</th>\n",
       "      <td>0000-00-00</td>\n",
       "      <td>https://www.autotrader.co.uk/car-details/20220...</td>\n",
       "      <td>Volkswagen</td>\n",
       "      <td>Polo</td>\n",
       "      <td>500.0</td>\n",
       "      <td>132752.0</td>\n",
       "      <td>2005</td>\n",
       "      <td>74.0</td>\n",
       "      <td>27.2</td>\n",
       "      <td>4.0</td>\n",
       "      <td>...</td>\n",
       "      <td>Petrol</td>\n",
       "      <td>Automatic</td>\n",
       "      <td>Hatchback</td>\n",
       "      <td>185.0</td>\n",
       "      <td>5.0</td>\n",
       "      <td>5.0</td>\n",
       "      <td>1.4</td>\n",
       "      <td>autotrader</td>\n",
       "      <td>Polo</td>\n",
       "      <td>polo</td>\n",
       "    </tr>\n",
       "    <tr>\n",
       "      <th>29011</th>\n",
       "      <td>0000-00-00</td>\n",
       "      <td>https://www.autotrader.co.uk/car-details/20220...</td>\n",
       "      <td>Volkswagen</td>\n",
       "      <td>Golf</td>\n",
       "      <td>450.0</td>\n",
       "      <td>186000.0</td>\n",
       "      <td>2002</td>\n",
       "      <td>100.0</td>\n",
       "      <td>41.5</td>\n",
       "      <td>4.0</td>\n",
       "      <td>...</td>\n",
       "      <td>Diesel</td>\n",
       "      <td>Manual</td>\n",
       "      <td>Hatchback</td>\n",
       "      <td>143.0</td>\n",
       "      <td>5.0</td>\n",
       "      <td>5.0</td>\n",
       "      <td>1.9</td>\n",
       "      <td>autotrader</td>\n",
       "      <td>Golf</td>\n",
       "      <td>golf</td>\n",
       "    </tr>\n",
       "    <tr>\n",
       "      <th>33087</th>\n",
       "      <td>0000-00-00</td>\n",
       "      <td>https://www.autotrader.co.uk/car-details/20220...</td>\n",
       "      <td>Ford</td>\n",
       "      <td>Fiesta</td>\n",
       "      <td>500.0</td>\n",
       "      <td>110000.0</td>\n",
       "      <td>2007</td>\n",
       "      <td>74.0</td>\n",
       "      <td>34.4</td>\n",
       "      <td>4.0</td>\n",
       "      <td>...</td>\n",
       "      <td>Petrol</td>\n",
       "      <td>Manual</td>\n",
       "      <td>Hatchback</td>\n",
       "      <td>142.0</td>\n",
       "      <td>5.0</td>\n",
       "      <td>5.0</td>\n",
       "      <td>1.3</td>\n",
       "      <td>autotrader</td>\n",
       "      <td>Fiesta</td>\n",
       "      <td>fiesta</td>\n",
       "    </tr>\n",
       "    <tr>\n",
       "      <th>58486</th>\n",
       "      <td>2007-04-26</td>\n",
       "      <td>https://www.cargurus.co.uk/Cars/detailListingJ...</td>\n",
       "      <td>Toyota</td>\n",
       "      <td>Auris</td>\n",
       "      <td>0.0</td>\n",
       "      <td>52000.0</td>\n",
       "      <td>2007</td>\n",
       "      <td>NaN</td>\n",
       "      <td>38.0</td>\n",
       "      <td>NaN</td>\n",
       "      <td>...</td>\n",
       "      <td>Petrol</td>\n",
       "      <td>Manual</td>\n",
       "      <td>Hatchback</td>\n",
       "      <td>166.0</td>\n",
       "      <td>5.0</td>\n",
       "      <td>5.0</td>\n",
       "      <td>1.6</td>\n",
       "      <td>cargurus</td>\n",
       "      <td>Auris</td>\n",
       "      <td>auris</td>\n",
       "    </tr>\n",
       "    <tr>\n",
       "      <th>61645</th>\n",
       "      <td>2016-09-30</td>\n",
       "      <td>https://www.cargurus.co.uk/Cars/detailListingJ...</td>\n",
       "      <td>Vauxhall</td>\n",
       "      <td>Astra</td>\n",
       "      <td>0.0</td>\n",
       "      <td>NaN</td>\n",
       "      <td>2016</td>\n",
       "      <td>NaN</td>\n",
       "      <td>70.0</td>\n",
       "      <td>NaN</td>\n",
       "      <td>...</td>\n",
       "      <td>Diesel</td>\n",
       "      <td>Manual</td>\n",
       "      <td>Hatchback</td>\n",
       "      <td>103.0</td>\n",
       "      <td>5.0</td>\n",
       "      <td>5.0</td>\n",
       "      <td>1.6</td>\n",
       "      <td>cargurus</td>\n",
       "      <td>Astra</td>\n",
       "      <td>astra</td>\n",
       "    </tr>\n",
       "    <tr>\n",
       "      <th>62347</th>\n",
       "      <td>2009-03-25</td>\n",
       "      <td>https://www.cargurus.co.uk/Cars/detailListingJ...</td>\n",
       "      <td>Vauxhall</td>\n",
       "      <td>Astra</td>\n",
       "      <td>0.0</td>\n",
       "      <td>125000.0</td>\n",
       "      <td>2009</td>\n",
       "      <td>NaN</td>\n",
       "      <td>60.0</td>\n",
       "      <td>NaN</td>\n",
       "      <td>...</td>\n",
       "      <td>Diesel</td>\n",
       "      <td>Manual</td>\n",
       "      <td>Hatchback</td>\n",
       "      <td>119.0</td>\n",
       "      <td>5.0</td>\n",
       "      <td>5.0</td>\n",
       "      <td>1.7</td>\n",
       "      <td>cargurus</td>\n",
       "      <td>Astra</td>\n",
       "      <td>astra</td>\n",
       "    </tr>\n",
       "    <tr>\n",
       "      <th>65875</th>\n",
       "      <td>2009-04-23</td>\n",
       "      <td>https://www.cargurus.co.uk/Cars/detailListingJ...</td>\n",
       "      <td>Vauxhall</td>\n",
       "      <td>Corsa</td>\n",
       "      <td>0.0</td>\n",
       "      <td>61000.0</td>\n",
       "      <td>2009</td>\n",
       "      <td>NaN</td>\n",
       "      <td>44.0</td>\n",
       "      <td>NaN</td>\n",
       "      <td>...</td>\n",
       "      <td>Petrol</td>\n",
       "      <td>Manual</td>\n",
       "      <td>Hatchback</td>\n",
       "      <td>146.0</td>\n",
       "      <td>5.0</td>\n",
       "      <td>5.0</td>\n",
       "      <td>1.2</td>\n",
       "      <td>cargurus</td>\n",
       "      <td>Corsa</td>\n",
       "      <td>corsa</td>\n",
       "    </tr>\n",
       "    <tr>\n",
       "      <th>74865</th>\n",
       "      <td>2008-03-31</td>\n",
       "      <td>https://www.cargurus.co.uk/Cars/detailListingJ...</td>\n",
       "      <td>Volkswagen</td>\n",
       "      <td>Polo</td>\n",
       "      <td>0.0</td>\n",
       "      <td>71000.0</td>\n",
       "      <td>2008</td>\n",
       "      <td>NaN</td>\n",
       "      <td>46.0</td>\n",
       "      <td>NaN</td>\n",
       "      <td>...</td>\n",
       "      <td>Petrol</td>\n",
       "      <td>Manual</td>\n",
       "      <td>Hatchback</td>\n",
       "      <td>138.0</td>\n",
       "      <td>5.0</td>\n",
       "      <td>5.0</td>\n",
       "      <td>1.2</td>\n",
       "      <td>cargurus</td>\n",
       "      <td>Polo</td>\n",
       "      <td>polo</td>\n",
       "    </tr>\n",
       "    <tr>\n",
       "      <th>79397</th>\n",
       "      <td>2011-06-16</td>\n",
       "      <td>https://www.cargurus.co.uk/Cars/detailListingJ...</td>\n",
       "      <td>Volkswagen</td>\n",
       "      <td>Golf</td>\n",
       "      <td>0.0</td>\n",
       "      <td>26000.0</td>\n",
       "      <td>2011</td>\n",
       "      <td>NaN</td>\n",
       "      <td>45.0</td>\n",
       "      <td>NaN</td>\n",
       "      <td>...</td>\n",
       "      <td>Petrol</td>\n",
       "      <td>Automatic</td>\n",
       "      <td>Hatchback</td>\n",
       "      <td>138.0</td>\n",
       "      <td>5.0</td>\n",
       "      <td>5.0</td>\n",
       "      <td>1.4</td>\n",
       "      <td>cargurus</td>\n",
       "      <td>Golf</td>\n",
       "      <td>golf</td>\n",
       "    </tr>\n",
       "    <tr>\n",
       "      <th>87026</th>\n",
       "      <td>2021-10-16</td>\n",
       "      <td>https://www.cargurus.co.uk/Cars/detailListingJ...</td>\n",
       "      <td>Volkswagen</td>\n",
       "      <td>Tiguan</td>\n",
       "      <td>0.0</td>\n",
       "      <td>NaN</td>\n",
       "      <td>2021</td>\n",
       "      <td>NaN</td>\n",
       "      <td>NaN</td>\n",
       "      <td>NaN</td>\n",
       "      <td>...</td>\n",
       "      <td>Petrol</td>\n",
       "      <td>Automatic</td>\n",
       "      <td>Estate</td>\n",
       "      <td>NaN</td>\n",
       "      <td>5.0</td>\n",
       "      <td>5.0</td>\n",
       "      <td>1.5</td>\n",
       "      <td>cargurus</td>\n",
       "      <td>Tiguan</td>\n",
       "      <td>tiguan</td>\n",
       "    </tr>\n",
       "    <tr>\n",
       "      <th>90058</th>\n",
       "      <td>2016-02-11</td>\n",
       "      <td>https://www.cargurus.co.uk/Cars/detailListingJ...</td>\n",
       "      <td>Ford</td>\n",
       "      <td>Fiesta</td>\n",
       "      <td>0.0</td>\n",
       "      <td>16005.0</td>\n",
       "      <td>2016</td>\n",
       "      <td>NaN</td>\n",
       "      <td>52.0</td>\n",
       "      <td>NaN</td>\n",
       "      <td>...</td>\n",
       "      <td>Petrol</td>\n",
       "      <td>Manual</td>\n",
       "      <td>Hatchback</td>\n",
       "      <td>122.0</td>\n",
       "      <td>3.0</td>\n",
       "      <td>5.0</td>\n",
       "      <td>1.2</td>\n",
       "      <td>cargurus</td>\n",
       "      <td>Fiesta</td>\n",
       "      <td>fiesta</td>\n",
       "    </tr>\n",
       "    <tr>\n",
       "      <th>91225</th>\n",
       "      <td>2022-04-29</td>\n",
       "      <td>https://www.cargurus.co.uk/Cars/detailListingJ...</td>\n",
       "      <td>Ford</td>\n",
       "      <td>Fiesta</td>\n",
       "      <td>0.0</td>\n",
       "      <td>935.0</td>\n",
       "      <td>2022</td>\n",
       "      <td>NaN</td>\n",
       "      <td>NaN</td>\n",
       "      <td>NaN</td>\n",
       "      <td>...</td>\n",
       "      <td>Petrol</td>\n",
       "      <td>Manual</td>\n",
       "      <td>Hatchback</td>\n",
       "      <td>NaN</td>\n",
       "      <td>5.0</td>\n",
       "      <td>5.0</td>\n",
       "      <td>1.0</td>\n",
       "      <td>cargurus</td>\n",
       "      <td>Fiesta</td>\n",
       "      <td>fiesta</td>\n",
       "    </tr>\n",
       "    <tr>\n",
       "      <th>97789</th>\n",
       "      <td>2021-09-30</td>\n",
       "      <td>https://www.cargurus.co.uk/Cars/detailListingJ...</td>\n",
       "      <td>Ford</td>\n",
       "      <td>Fiesta</td>\n",
       "      <td>0.0</td>\n",
       "      <td>2728.0</td>\n",
       "      <td>2021</td>\n",
       "      <td>NaN</td>\n",
       "      <td>NaN</td>\n",
       "      <td>NaN</td>\n",
       "      <td>...</td>\n",
       "      <td>Petrol</td>\n",
       "      <td>Manual</td>\n",
       "      <td>Hatchback</td>\n",
       "      <td>NaN</td>\n",
       "      <td>5.0</td>\n",
       "      <td>5.0</td>\n",
       "      <td>1.0</td>\n",
       "      <td>cargurus</td>\n",
       "      <td>Fiesta</td>\n",
       "      <td>fiesta</td>\n",
       "    </tr>\n",
       "    <tr>\n",
       "      <th>97889</th>\n",
       "      <td>2021-01-31</td>\n",
       "      <td>https://www.cargurus.co.uk/Cars/detailListingJ...</td>\n",
       "      <td>Ford</td>\n",
       "      <td>Fiesta</td>\n",
       "      <td>0.0</td>\n",
       "      <td>7380.0</td>\n",
       "      <td>2021</td>\n",
       "      <td>NaN</td>\n",
       "      <td>NaN</td>\n",
       "      <td>NaN</td>\n",
       "      <td>...</td>\n",
       "      <td>Petrol</td>\n",
       "      <td>Manual</td>\n",
       "      <td>Hatchback</td>\n",
       "      <td>NaN</td>\n",
       "      <td>5.0</td>\n",
       "      <td>5.0</td>\n",
       "      <td>1.0</td>\n",
       "      <td>cargurus</td>\n",
       "      <td>Fiesta</td>\n",
       "      <td>fiesta</td>\n",
       "    </tr>\n",
       "    <tr>\n",
       "      <th>97890</th>\n",
       "      <td>2021-01-31</td>\n",
       "      <td>https://www.cargurus.co.uk/Cars/detailListingJ...</td>\n",
       "      <td>Ford</td>\n",
       "      <td>Fiesta</td>\n",
       "      <td>0.0</td>\n",
       "      <td>5933.0</td>\n",
       "      <td>2021</td>\n",
       "      <td>NaN</td>\n",
       "      <td>NaN</td>\n",
       "      <td>NaN</td>\n",
       "      <td>...</td>\n",
       "      <td>Petrol</td>\n",
       "      <td>Manual</td>\n",
       "      <td>Hatchback</td>\n",
       "      <td>NaN</td>\n",
       "      <td>5.0</td>\n",
       "      <td>5.0</td>\n",
       "      <td>1.0</td>\n",
       "      <td>cargurus</td>\n",
       "      <td>Fiesta</td>\n",
       "      <td>fiesta</td>\n",
       "    </tr>\n",
       "    <tr>\n",
       "      <th>97891</th>\n",
       "      <td>2020-10-27</td>\n",
       "      <td>https://www.cargurus.co.uk/Cars/detailListingJ...</td>\n",
       "      <td>Ford</td>\n",
       "      <td>Fiesta</td>\n",
       "      <td>0.0</td>\n",
       "      <td>8845.0</td>\n",
       "      <td>2020</td>\n",
       "      <td>NaN</td>\n",
       "      <td>NaN</td>\n",
       "      <td>NaN</td>\n",
       "      <td>...</td>\n",
       "      <td>NaN</td>\n",
       "      <td>Manual</td>\n",
       "      <td>Van</td>\n",
       "      <td>NaN</td>\n",
       "      <td>NaN</td>\n",
       "      <td>NaN</td>\n",
       "      <td>NaN</td>\n",
       "      <td>cargurus</td>\n",
       "      <td>Fiesta</td>\n",
       "      <td>fiesta</td>\n",
       "    </tr>\n",
       "    <tr>\n",
       "      <th>97892</th>\n",
       "      <td>2021-01-31</td>\n",
       "      <td>https://www.cargurus.co.uk/Cars/detailListingJ...</td>\n",
       "      <td>Ford</td>\n",
       "      <td>Fiesta</td>\n",
       "      <td>0.0</td>\n",
       "      <td>7332.0</td>\n",
       "      <td>2021</td>\n",
       "      <td>NaN</td>\n",
       "      <td>NaN</td>\n",
       "      <td>NaN</td>\n",
       "      <td>...</td>\n",
       "      <td>Petrol</td>\n",
       "      <td>Manual</td>\n",
       "      <td>Hatchback</td>\n",
       "      <td>NaN</td>\n",
       "      <td>5.0</td>\n",
       "      <td>5.0</td>\n",
       "      <td>1.0</td>\n",
       "      <td>cargurus</td>\n",
       "      <td>Fiesta</td>\n",
       "      <td>fiesta</td>\n",
       "    </tr>\n",
       "    <tr>\n",
       "      <th>97893</th>\n",
       "      <td>2020-10-27</td>\n",
       "      <td>https://www.cargurus.co.uk/Cars/detailListingJ...</td>\n",
       "      <td>Ford</td>\n",
       "      <td>Fiesta</td>\n",
       "      <td>0.0</td>\n",
       "      <td>3099.0</td>\n",
       "      <td>2020</td>\n",
       "      <td>NaN</td>\n",
       "      <td>NaN</td>\n",
       "      <td>NaN</td>\n",
       "      <td>...</td>\n",
       "      <td>NaN</td>\n",
       "      <td>Manual</td>\n",
       "      <td>Van</td>\n",
       "      <td>NaN</td>\n",
       "      <td>NaN</td>\n",
       "      <td>NaN</td>\n",
       "      <td>NaN</td>\n",
       "      <td>cargurus</td>\n",
       "      <td>Fiesta</td>\n",
       "      <td>fiesta</td>\n",
       "    </tr>\n",
       "    <tr>\n",
       "      <th>97979</th>\n",
       "      <td>2020-10-29</td>\n",
       "      <td>https://www.cargurus.co.uk/Cars/detailListingJ...</td>\n",
       "      <td>Ford</td>\n",
       "      <td>Fiesta</td>\n",
       "      <td>0.0</td>\n",
       "      <td>6434.0</td>\n",
       "      <td>2020</td>\n",
       "      <td>NaN</td>\n",
       "      <td>NaN</td>\n",
       "      <td>NaN</td>\n",
       "      <td>...</td>\n",
       "      <td>NaN</td>\n",
       "      <td>Manual</td>\n",
       "      <td>Van</td>\n",
       "      <td>NaN</td>\n",
       "      <td>NaN</td>\n",
       "      <td>NaN</td>\n",
       "      <td>NaN</td>\n",
       "      <td>cargurus</td>\n",
       "      <td>Fiesta</td>\n",
       "      <td>fiesta</td>\n",
       "    </tr>\n",
       "    <tr>\n",
       "      <th>98242</th>\n",
       "      <td>2018-03-29</td>\n",
       "      <td>https://www.cargurus.co.uk/Cars/detailListingJ...</td>\n",
       "      <td>Ford</td>\n",
       "      <td>Focus</td>\n",
       "      <td>0.0</td>\n",
       "      <td>NaN</td>\n",
       "      <td>2018</td>\n",
       "      <td>NaN</td>\n",
       "      <td>73.0</td>\n",
       "      <td>NaN</td>\n",
       "      <td>...</td>\n",
       "      <td>Diesel</td>\n",
       "      <td>Manual</td>\n",
       "      <td>Hatchback</td>\n",
       "      <td>99.0</td>\n",
       "      <td>NaN</td>\n",
       "      <td>NaN</td>\n",
       "      <td>1.5</td>\n",
       "      <td>cargurus</td>\n",
       "      <td>Focus</td>\n",
       "      <td>focus</td>\n",
       "    </tr>\n",
       "    <tr>\n",
       "      <th>98243</th>\n",
       "      <td>2017-09-22</td>\n",
       "      <td>https://www.cargurus.co.uk/Cars/detailListingJ...</td>\n",
       "      <td>Ford</td>\n",
       "      <td>Focus</td>\n",
       "      <td>0.0</td>\n",
       "      <td>12560.0</td>\n",
       "      <td>2017</td>\n",
       "      <td>NaN</td>\n",
       "      <td>58.0</td>\n",
       "      <td>NaN</td>\n",
       "      <td>...</td>\n",
       "      <td>Petrol</td>\n",
       "      <td>Manual</td>\n",
       "      <td>Hatchback</td>\n",
       "      <td>108.0</td>\n",
       "      <td>5.0</td>\n",
       "      <td>5.0</td>\n",
       "      <td>1.0</td>\n",
       "      <td>cargurus</td>\n",
       "      <td>Focus</td>\n",
       "      <td>focus</td>\n",
       "    </tr>\n",
       "    <tr>\n",
       "      <th>98913</th>\n",
       "      <td>2007-09-10</td>\n",
       "      <td>https://www.cargurus.co.uk/Cars/detailListingJ...</td>\n",
       "      <td>Ford</td>\n",
       "      <td>Focus</td>\n",
       "      <td>499.0</td>\n",
       "      <td>115000.0</td>\n",
       "      <td>2007</td>\n",
       "      <td>NaN</td>\n",
       "      <td>NaN</td>\n",
       "      <td>NaN</td>\n",
       "      <td>...</td>\n",
       "      <td>NaN</td>\n",
       "      <td>Manual</td>\n",
       "      <td>NaN</td>\n",
       "      <td>NaN</td>\n",
       "      <td>NaN</td>\n",
       "      <td>NaN</td>\n",
       "      <td>NaN</td>\n",
       "      <td>cargurus</td>\n",
       "      <td>Focus</td>\n",
       "      <td>focus</td>\n",
       "    </tr>\n",
       "    <tr>\n",
       "      <th>104633</th>\n",
       "      <td>2006-03-08</td>\n",
       "      <td>https://www.cargurus.co.uk/Cars/detailListingJ...</td>\n",
       "      <td>Ford</td>\n",
       "      <td>Focus</td>\n",
       "      <td>315.0</td>\n",
       "      <td>70000.0</td>\n",
       "      <td>2006</td>\n",
       "      <td>NaN</td>\n",
       "      <td>41.0</td>\n",
       "      <td>NaN</td>\n",
       "      <td>...</td>\n",
       "      <td>Petrol</td>\n",
       "      <td>Manual</td>\n",
       "      <td>Hatchback</td>\n",
       "      <td>161.0</td>\n",
       "      <td>5.0</td>\n",
       "      <td>5.0</td>\n",
       "      <td>1.6</td>\n",
       "      <td>cargurus</td>\n",
       "      <td>Focus</td>\n",
       "      <td>focus</td>\n",
       "    </tr>\n",
       "    <tr>\n",
       "      <th>110862</th>\n",
       "      <td>2017-05-11</td>\n",
       "      <td>https://www.cargurus.co.uk/Cars/detailListingJ...</td>\n",
       "      <td>Ford</td>\n",
       "      <td>Mondeo</td>\n",
       "      <td>0.0</td>\n",
       "      <td>38028.0</td>\n",
       "      <td>2017</td>\n",
       "      <td>NaN</td>\n",
       "      <td>76.0</td>\n",
       "      <td>NaN</td>\n",
       "      <td>...</td>\n",
       "      <td>Diesel</td>\n",
       "      <td>Manual</td>\n",
       "      <td>Hatchback</td>\n",
       "      <td>94.0</td>\n",
       "      <td>5.0</td>\n",
       "      <td>5.0</td>\n",
       "      <td>1.5</td>\n",
       "      <td>cargurus</td>\n",
       "      <td>Mondeo</td>\n",
       "      <td>mondeo</td>\n",
       "    </tr>\n",
       "  </tbody>\n",
       "</table>\n",
       "<p>24 rows × 21 columns</p>\n",
       "</div>"
      ],
      "text/plain": [
       "              Date                                             Source  \\\n",
       "21038   0000-00-00  https://www.autotrader.co.uk/car-details/20220...   \n",
       "29011   0000-00-00  https://www.autotrader.co.uk/car-details/20220...   \n",
       "33087   0000-00-00  https://www.autotrader.co.uk/car-details/20220...   \n",
       "58486   2007-04-26  https://www.cargurus.co.uk/Cars/detailListingJ...   \n",
       "61645   2016-09-30  https://www.cargurus.co.uk/Cars/detailListingJ...   \n",
       "62347   2009-03-25  https://www.cargurus.co.uk/Cars/detailListingJ...   \n",
       "65875   2009-04-23  https://www.cargurus.co.uk/Cars/detailListingJ...   \n",
       "74865   2008-03-31  https://www.cargurus.co.uk/Cars/detailListingJ...   \n",
       "79397   2011-06-16  https://www.cargurus.co.uk/Cars/detailListingJ...   \n",
       "87026   2021-10-16  https://www.cargurus.co.uk/Cars/detailListingJ...   \n",
       "90058   2016-02-11  https://www.cargurus.co.uk/Cars/detailListingJ...   \n",
       "91225   2022-04-29  https://www.cargurus.co.uk/Cars/detailListingJ...   \n",
       "97789   2021-09-30  https://www.cargurus.co.uk/Cars/detailListingJ...   \n",
       "97889   2021-01-31  https://www.cargurus.co.uk/Cars/detailListingJ...   \n",
       "97890   2021-01-31  https://www.cargurus.co.uk/Cars/detailListingJ...   \n",
       "97891   2020-10-27  https://www.cargurus.co.uk/Cars/detailListingJ...   \n",
       "97892   2021-01-31  https://www.cargurus.co.uk/Cars/detailListingJ...   \n",
       "97893   2020-10-27  https://www.cargurus.co.uk/Cars/detailListingJ...   \n",
       "97979   2020-10-29  https://www.cargurus.co.uk/Cars/detailListingJ...   \n",
       "98242   2018-03-29  https://www.cargurus.co.uk/Cars/detailListingJ...   \n",
       "98243   2017-09-22  https://www.cargurus.co.uk/Cars/detailListingJ...   \n",
       "98913   2007-09-10  https://www.cargurus.co.uk/Cars/detailListingJ...   \n",
       "104633  2006-03-08  https://www.cargurus.co.uk/Cars/detailListingJ...   \n",
       "110862  2017-05-11  https://www.cargurus.co.uk/Cars/detailListingJ...   \n",
       "\n",
       "              Make   Model  Price    Milage  Year  Power  Consumption  \\\n",
       "21038   Volkswagen    Polo  500.0  132752.0  2005   74.0         27.2   \n",
       "29011   Volkswagen    Golf  450.0  186000.0  2002  100.0         41.5   \n",
       "33087         Ford  Fiesta  500.0  110000.0  2007   74.0         34.4   \n",
       "58486       Toyota   Auris    0.0   52000.0  2007    NaN         38.0   \n",
       "61645     Vauxhall   Astra    0.0       NaN  2016    NaN         70.0   \n",
       "62347     Vauxhall   Astra    0.0  125000.0  2009    NaN         60.0   \n",
       "65875     Vauxhall   Corsa    0.0   61000.0  2009    NaN         44.0   \n",
       "74865   Volkswagen    Polo    0.0   71000.0  2008    NaN         46.0   \n",
       "79397   Volkswagen    Golf    0.0   26000.0  2011    NaN         45.0   \n",
       "87026   Volkswagen  Tiguan    0.0       NaN  2021    NaN          NaN   \n",
       "90058         Ford  Fiesta    0.0   16005.0  2016    NaN         52.0   \n",
       "91225         Ford  Fiesta    0.0     935.0  2022    NaN          NaN   \n",
       "97789         Ford  Fiesta    0.0    2728.0  2021    NaN          NaN   \n",
       "97889         Ford  Fiesta    0.0    7380.0  2021    NaN          NaN   \n",
       "97890         Ford  Fiesta    0.0    5933.0  2021    NaN          NaN   \n",
       "97891         Ford  Fiesta    0.0    8845.0  2020    NaN          NaN   \n",
       "97892         Ford  Fiesta    0.0    7332.0  2021    NaN          NaN   \n",
       "97893         Ford  Fiesta    0.0    3099.0  2020    NaN          NaN   \n",
       "97979         Ford  Fiesta    0.0    6434.0  2020    NaN          NaN   \n",
       "98242         Ford   Focus    0.0       NaN  2018    NaN         73.0   \n",
       "98243         Ford   Focus    0.0   12560.0  2017    NaN         58.0   \n",
       "98913         Ford   Focus  499.0  115000.0  2007    NaN          NaN   \n",
       "104633        Ford   Focus  315.0   70000.0  2006    NaN         41.0   \n",
       "110862        Ford  Mondeo    0.0   38028.0  2017    NaN         76.0   \n",
       "\n",
       "        Cylinder  ...  Fuel Type Transmission  Body type CO2 emission  Door  \\\n",
       "21038        4.0  ...     Petrol    Automatic  Hatchback        185.0   5.0   \n",
       "29011        4.0  ...     Diesel       Manual  Hatchback        143.0   5.0   \n",
       "33087        4.0  ...     Petrol       Manual  Hatchback        142.0   5.0   \n",
       "58486        NaN  ...     Petrol       Manual  Hatchback        166.0   5.0   \n",
       "61645        NaN  ...     Diesel       Manual  Hatchback        103.0   5.0   \n",
       "62347        NaN  ...     Diesel       Manual  Hatchback        119.0   5.0   \n",
       "65875        NaN  ...     Petrol       Manual  Hatchback        146.0   5.0   \n",
       "74865        NaN  ...     Petrol       Manual  Hatchback        138.0   5.0   \n",
       "79397        NaN  ...     Petrol    Automatic  Hatchback        138.0   5.0   \n",
       "87026        NaN  ...     Petrol    Automatic     Estate          NaN   5.0   \n",
       "90058        NaN  ...     Petrol       Manual  Hatchback        122.0   3.0   \n",
       "91225        NaN  ...     Petrol       Manual  Hatchback          NaN   5.0   \n",
       "97789        NaN  ...     Petrol       Manual  Hatchback          NaN   5.0   \n",
       "97889        NaN  ...     Petrol       Manual  Hatchback          NaN   5.0   \n",
       "97890        NaN  ...     Petrol       Manual  Hatchback          NaN   5.0   \n",
       "97891        NaN  ...        NaN       Manual        Van          NaN   NaN   \n",
       "97892        NaN  ...     Petrol       Manual  Hatchback          NaN   5.0   \n",
       "97893        NaN  ...        NaN       Manual        Van          NaN   NaN   \n",
       "97979        NaN  ...        NaN       Manual        Van          NaN   NaN   \n",
       "98242        NaN  ...     Diesel       Manual  Hatchback         99.0   NaN   \n",
       "98243        NaN  ...     Petrol       Manual  Hatchback        108.0   5.0   \n",
       "98913        NaN  ...        NaN       Manual        NaN          NaN   NaN   \n",
       "104633       NaN  ...     Petrol       Manual  Hatchback        161.0   5.0   \n",
       "110862       NaN  ...     Diesel       Manual  Hatchback         94.0   5.0   \n",
       "\n",
       "        Seat  Engine size  data_source Model_1 Model_2  \n",
       "21038    5.0          1.4   autotrader    Polo    polo  \n",
       "29011    5.0          1.9   autotrader    Golf    golf  \n",
       "33087    5.0          1.3   autotrader  Fiesta  fiesta  \n",
       "58486    5.0          1.6     cargurus   Auris   auris  \n",
       "61645    5.0          1.6     cargurus   Astra   astra  \n",
       "62347    5.0          1.7     cargurus   Astra   astra  \n",
       "65875    5.0          1.2     cargurus   Corsa   corsa  \n",
       "74865    5.0          1.2     cargurus    Polo    polo  \n",
       "79397    5.0          1.4     cargurus    Golf    golf  \n",
       "87026    5.0          1.5     cargurus  Tiguan  tiguan  \n",
       "90058    5.0          1.2     cargurus  Fiesta  fiesta  \n",
       "91225    5.0          1.0     cargurus  Fiesta  fiesta  \n",
       "97789    5.0          1.0     cargurus  Fiesta  fiesta  \n",
       "97889    5.0          1.0     cargurus  Fiesta  fiesta  \n",
       "97890    5.0          1.0     cargurus  Fiesta  fiesta  \n",
       "97891    NaN          NaN     cargurus  Fiesta  fiesta  \n",
       "97892    5.0          1.0     cargurus  Fiesta  fiesta  \n",
       "97893    NaN          NaN     cargurus  Fiesta  fiesta  \n",
       "97979    NaN          NaN     cargurus  Fiesta  fiesta  \n",
       "98242    NaN          1.5     cargurus   Focus   focus  \n",
       "98243    5.0          1.0     cargurus   Focus   focus  \n",
       "98913    NaN          NaN     cargurus   Focus   focus  \n",
       "104633   5.0          1.6     cargurus   Focus   focus  \n",
       "110862   5.0          1.5     cargurus  Mondeo  mondeo  \n",
       "\n",
       "[24 rows x 21 columns]"
      ]
     },
     "execution_count": 73,
     "metadata": {},
     "output_type": "execute_result"
    }
   ],
   "source": [
    "# Car prices under £500 is not reliable.\n",
    "\n",
    "low_price = (df[df['Price']<=500]).index\n",
    "df.loc[low_price]"
   ]
  },
  {
   "cell_type": "markdown",
   "id": "b0dc5ff8",
   "metadata": {},
   "source": [
    "**False price** \n",
    "\n",
    "it is better to drop low and high prices in target values since I have enough data points for the project and I dont want noisy in my data."
   ]
  },
  {
   "cell_type": "code",
   "execution_count": 74,
   "id": "894d7d77",
   "metadata": {},
   "outputs": [],
   "source": [
    "false_price = low_price.append(high_price)\n",
    "\n",
    "df.drop(index = false_price, inplace=True)"
   ]
  },
  {
   "cell_type": "markdown",
   "id": "3b17e2df",
   "metadata": {},
   "source": [
    "**Outliers within Model, Year group**"
   ]
  },
  {
   "cell_type": "code",
   "execution_count": 75,
   "id": "87e651d2",
   "metadata": {},
   "outputs": [],
   "source": [
    "model = df.Model_1.unique()\n",
    "year = df.Year.unique()"
   ]
  },
  {
   "cell_type": "code",
   "execution_count": 76,
   "id": "d2893c9d",
   "metadata": {},
   "outputs": [],
   "source": [
    "def outliers_iqr(data):\n",
    "    '''to get index of data points from out off 2.5 iqr range\n",
    "    Parameters: data: dataframe\n",
    "    \n",
    "    Return: list of index of outliers\n",
    "    '''\n",
    "    \n",
    "    idx_outliers = []\n",
    "    data = data.sort_values()\n",
    "    q1 = np.percentile(data, 25)\n",
    "    q3 = np.percentile(data, 75)\n",
    "    \n",
    "    # print(q1, q3)\n",
    "    \n",
    "    IQR = q3-q1\n",
    "    lwr_bound = q1-(2.5*IQR)\n",
    "    upr_bound = q3+(2.5*IQR)\n",
    "    \n",
    "    # print(lwr_bound, upr_bound)\n",
    "    \n",
    "    for i in data: \n",
    "        if (i<lwr_bound or i>upr_bound):\n",
    "            idx = data[data==i].index[0]\n",
    "            idx_outliers.append(idx)\n",
    "    return list(idx_outliers)"
   ]
  },
  {
   "cell_type": "code",
   "execution_count": 77,
   "id": "28f8b211",
   "metadata": {},
   "outputs": [],
   "source": [
    "import itertools\n",
    "\n",
    "def index_outliers(df, col1, col2):\n",
    "    \n",
    "    '''to get outliers by given data and columns\n",
    "    \n",
    "    Parameters: df: dataframe\n",
    "                col1: grouping col 1\n",
    "                col2: grouping col 2\n",
    "                \n",
    "    Returns: list of unique index numbers of outliers\n",
    "    '''\n",
    "    \n",
    "    idx_outliers = list()\n",
    "    for i in itertools.product(model, year, repeat=1):\n",
    "        data = df[(df[col1] == i[0])&(df[col2] == i[1])].Price\n",
    "\n",
    "        if data.shape[0]>0:\n",
    "            val = outliers_iqr(data)\n",
    "            if val != []:\n",
    "                for k in val:\n",
    "                    idx_outliers.append(k)\n",
    "    return list(set(idx_outliers))"
   ]
  },
  {
   "cell_type": "code",
   "execution_count": 78,
   "id": "bfd99fdb",
   "metadata": {},
   "outputs": [
    {
     "data": {
      "text/plain": [
       "579"
      ]
     },
     "execution_count": 78,
     "metadata": {},
     "output_type": "execute_result"
    }
   ],
   "source": [
    "outliers_idx = index_outliers(df, 'Model_1', 'Year')\n",
    "\n",
    "len(outliers_idx)"
   ]
  },
  {
   "cell_type": "code",
   "execution_count": 79,
   "id": "6fbc19c8",
   "metadata": {},
   "outputs": [
    {
     "data": {
      "text/plain": [
       "<Axes: >"
      ]
     },
     "execution_count": 79,
     "metadata": {},
     "output_type": "execute_result"
    },
    {
     "data": {
      "image/png": "[encoded data removed]",
      "text/plain": [
       "<Figure size 640x480 with 1 Axes>"
      ]
     },
     "metadata": {},
     "output_type": "display_data"
    }
   ],
   "source": [
    "df.loc[outliers_idx]\n",
    "\n",
    "sns.boxplot(df.drop(index=outliers_idx).Price, orient=\"h\")"
   ]
  },
  {
   "cell_type": "code",
   "execution_count": 80,
   "id": "8b92f425",
   "metadata": {},
   "outputs": [],
   "source": [
    "# There are still some outliears \n",
    "\n",
    "for i in df.drop(index=outliers_idx)[df.Price>60000].index:\n",
    "    outliers_idx.append(i)"
   ]
  },
  {
   "cell_type": "code",
   "execution_count": 81,
   "id": "deff0f78",
   "metadata": {},
   "outputs": [
    {
     "data": {
      "text/plain": [
       "579"
      ]
     },
     "execution_count": 81,
     "metadata": {},
     "output_type": "execute_result"
    }
   ],
   "source": [
    "len(outliers_idx)"
   ]
  },
  {
   "cell_type": "code",
   "execution_count": 82,
   "id": "3b976e3a",
   "metadata": {},
   "outputs": [
    {
     "data": {
      "text/plain": [
       "<Axes: >"
      ]
     },
     "execution_count": 82,
     "metadata": {},
     "output_type": "execute_result"
    },
    {
     "data": {
      "image/png": "[encoded data removed]",
      "text/plain": [
       "<Figure size 640x480 with 1 Axes>"
      ]
     },
     "metadata": {},
     "output_type": "display_data"
    }
   ],
   "source": [
    "sns.boxplot(df.drop(index=outliers_idx).Price, orient=\"h\")"
   ]
  },
  {
   "cell_type": "code",
   "execution_count": 83,
   "id": "d553ace4",
   "metadata": {},
   "outputs": [
    {
     "data": {
      "text/plain": [
       "109102"
      ]
     },
     "execution_count": 83,
     "metadata": {},
     "output_type": "execute_result"
    }
   ],
   "source": [
    "#drop outliers\n",
    "\n",
    "df.drop(index=outliers_idx, inplace=True)\n",
    "\n",
    "# total data points after cleaning\n",
    "\n",
    "len(df.Model_1)"
   ]
  },
  {
   "cell_type": "markdown",
   "id": "db09d468",
   "metadata": {},
   "source": [
    "## Fill NaN values"
   ]
  },
  {
   "cell_type": "markdown",
   "id": "a37d1bca",
   "metadata": {},
   "source": [
    "The gears value of following models are false. I checked the website of the make and model to find out the manifacturer data. Finally filled the gear value based on the information\n",
    "\n",
    "**Tiguan**"
   ]
  },
  {
   "cell_type": "code",
   "execution_count": 84,
   "id": "af82ece4",
   "metadata": {},
   "outputs": [
    {
     "data": {
      "text/plain": [
       "7.0    3615\n",
       "6.0    3164\n",
       "NaN       5\n",
       "Name: Gears, dtype: int64"
      ]
     },
     "execution_count": 84,
     "metadata": {},
     "output_type": "execute_result"
    }
   ],
   "source": [
    "idx_tiguan_7 = df[(df.Model_1=='Tiguan')&(df['Engine size']==2)&(df['Fuel Type']=='Diesel')&(df.Transmission=='Automatic')].index\n",
    "\n",
    "df.loc[idx_tiguan_7, 'Gears'] = 7\n",
    "\n",
    "idx_tiguan_6 = df[(df.Model_1=='Tiguan')&(df['Engine size']==2)&(df['Fuel Type']=='Diesel')&(df.Transmission=='Manual')].index\n",
    "\n",
    "df.loc[idx_tiguan_6, 'Gears'] = 6\n",
    "\n",
    "idx_tiguan_72 = df[(df.Model_1=='Tiguan')&(df['Engine size']<2)&(df['Fuel Type']=='Petrol')&(df.Transmission=='Automatic')].index\n",
    "\n",
    "df.loc[idx_tiguan_72, 'Gears'] = 7\n",
    "\n",
    "idx_tiguan_62 = df[(df.Model_1=='Tiguan')&(df['Engine size']<2)&(df['Fuel Type']=='Petrol')&(df.Transmission=='Manual')].index\n",
    "\n",
    "df.loc[idx_tiguan_62, 'Gears'] = 6\n",
    "\n",
    "idx_tiguan_63 = df[(df.Model_1=='Tiguan')&(df.Transmission=='Manual')].index\n",
    "\n",
    "df.loc[idx_tiguan_63, 'Gears'] = 6\n",
    "\n",
    "idx_tiguan_73 = df[(df.Model_1=='Tiguan')&(df.Transmission=='Automatic')].index\n",
    "\n",
    "df.loc[idx_tiguan_73, 'Gears'] = 7\n",
    "\n",
    "df[(df.Model_1=='Tiguan')].Gears.value_counts(dropna=False)"
   ]
  },
  {
   "cell_type": "markdown",
   "id": "716b8b7d",
   "metadata": {},
   "source": [
    "**Passat**"
   ]
  },
  {
   "cell_type": "code",
   "execution_count": 85,
   "id": "b9b3fbd6",
   "metadata": {},
   "outputs": [],
   "source": [
    "idx_passat_6 = df[(df.Model_1 == 'Passat') & (df.Transmission == 'Manual')].index\n",
    "\n",
    "df.loc[idx_passat_6, 'Gears'] = 6\n",
    "\n",
    "idx_passat_7 = df[(df.Model_1 == 'Passat') & (df.Transmission == 'Automatic')].index\n",
    "\n",
    "df.loc[idx_passat_7, 'Gears'] = 7"
   ]
  },
  {
   "cell_type": "markdown",
   "id": "9171705b",
   "metadata": {},
   "source": [
    "**Insignia**"
   ]
  },
  {
   "cell_type": "code",
   "execution_count": 86,
   "id": "3f02338b",
   "metadata": {},
   "outputs": [],
   "source": [
    "idx_insignia_6 = df[(df.Model_1=='Insignia')&(df['Power']<=140)].index\n",
    "\n",
    "df.loc[idx_insignia_6, 'Gears'] = 6\n",
    "\n",
    "idx_insignia_6 = df[(df.Model_1=='Insignia')&(df['Year']>=140)].index\n",
    "\n",
    "idx_insignia_9 = df[(df.Model_2.isin(['insignia 2.0td 170ps sri vx-linenav blueinjection', 'insignia diesel sports tourer']))].index\n",
    "\n",
    "df.loc[idx_insignia_9, 'Gears'] = 9\n",
    "\n",
    "idx_insignia_62 = df[(df.Model_1=='Insignia')].index\n",
    "\n",
    "df.loc[idx_insignia_62, 'Gears'] = 6"
   ]
  },
  {
   "cell_type": "markdown",
   "id": "84107b8d",
   "metadata": {},
   "source": [
    "**Scirocco**"
   ]
  },
  {
   "cell_type": "code",
   "execution_count": 87,
   "id": "0f825568",
   "metadata": {},
   "outputs": [],
   "source": [
    "idx_scirocco = df[(df.Model_1=='Scirocco')].index\n",
    "\n",
    "df.loc[idx_scirocco, 'Gears'] = 6"
   ]
  },
  {
   "cell_type": "markdown",
   "id": "3feba4b8",
   "metadata": {},
   "source": [
    "**KA**"
   ]
  },
  {
   "cell_type": "code",
   "execution_count": 88,
   "id": "51f5176e",
   "metadata": {},
   "outputs": [],
   "source": [
    "idx_ka = df[(df.Model_1=='KA')].index\n",
    "\n",
    "df.loc[idx_ka, 'Gears'] = 5"
   ]
  },
  {
   "cell_type": "markdown",
   "id": "88e2ba20",
   "metadata": {},
   "source": [
    "**Missing Values**"
   ]
  },
  {
   "cell_type": "code",
   "execution_count": 89,
   "id": "5d876a9b",
   "metadata": {},
   "outputs": [
    {
     "data": {
      "text/plain": [
       "Milage           0.21\n",
       "Power           79.52\n",
       "Consumption     48.07\n",
       "Cylinder        79.54\n",
       "Gears           83.65\n",
       "Fuel Type        7.56\n",
       "Transmission     0.08\n",
       "Body type        5.60\n",
       "CO2 emission    10.20\n",
       "Door             9.18\n",
       "Seat            37.17\n",
       "Engine size      8.78\n",
       "dtype: float64"
      ]
     },
     "execution_count": 89,
     "metadata": {},
     "output_type": "execute_result"
    }
   ],
   "source": [
    "# percentage of missing values by columns\n",
    "\n",
    "missing_percent = round(df.isnull().sum()*100/len(df),2)\n",
    "missing_cols = missing_percent[missing_percent != 0]\n",
    "missing_cols"
   ]
  },
  {
   "cell_type": "code",
   "execution_count": 90,
   "id": "8fefc4a4",
   "metadata": {},
   "outputs": [
    {
     "data": {
      "text/plain": [
       "['Milage',\n",
       " 'Power',\n",
       " 'Consumption',\n",
       " 'Cylinder',\n",
       " 'Gears',\n",
       " 'Fuel Type',\n",
       " 'Transmission',\n",
       " 'Body type',\n",
       " 'CO2 emission',\n",
       " 'Door',\n",
       " 'Seat',\n",
       " 'Engine size']"
      ]
     },
     "execution_count": 90,
     "metadata": {},
     "output_type": "execute_result"
    }
   ],
   "source": [
    "missing_cols.index.to_list()"
   ]
  },
  {
   "cell_type": "code",
   "execution_count": 91,
   "id": "8ec81fde",
   "metadata": {},
   "outputs": [],
   "source": [
    "def missing_percentage(df):\n",
    "    return round(df.isnull().sum()*100/len(df),2)"
   ]
  },
  {
   "cell_type": "code",
   "execution_count": 92,
   "id": "f54dcca0",
   "metadata": {},
   "outputs": [
    {
     "data": {
      "text/plain": [
       "Index(['Date', 'Source', 'Make', 'Model', 'Price', 'Milage', 'Year', 'Power',\n",
       "       'Consumption', 'Cylinder', 'Gears', 'Fuel Type', 'Transmission',\n",
       "       'Body type', 'CO2 emission', 'Door', 'Seat', 'Engine size',\n",
       "       'data_source', 'Model_1', 'Model_2'],\n",
       "      dtype='object')"
      ]
     },
     "execution_count": 92,
     "metadata": {},
     "output_type": "execute_result"
    }
   ],
   "source": [
    "df.columns"
   ]
  },
  {
   "cell_type": "markdown",
   "id": "a7c36106",
   "metadata": {},
   "source": [
    "**Mileage**\n",
    "\n",
    "Fill missing values by average value of **model** and **year** subset."
   ]
  },
  {
   "cell_type": "code",
   "execution_count": 242,
   "id": "34041b8b",
   "metadata": {},
   "outputs": [],
   "source": [
    "# Fill NaN values in fill_column column with mean value grouped by the specified columns\n",
    "\n",
    "def fill_nan_with_group_mean(df, fill_column, group_columns):\n",
    "    \n",
    "    data = df.copy()\n",
    "    \n",
    "    data[fill_column] = data.groupby(group_columns)[fill_column].transform(lambda x: x.fillna(x.mean()))\n",
    "    \n",
    "    return data\n",
    "    "
   ]
  },
  {
   "cell_type": "code",
   "execution_count": 93,
   "id": "0bb92d50",
   "metadata": {},
   "outputs": [
    {
     "data": {
      "text/plain": [
       "Date             0.00\n",
       "Source           0.00\n",
       "Make             0.00\n",
       "Model            0.00\n",
       "Price            0.00\n",
       "Milage           0.00\n",
       "Year             0.00\n",
       "Power           79.52\n",
       "Consumption     48.07\n",
       "Cylinder        79.54\n",
       "Gears           83.65\n",
       "Fuel Type        7.56\n",
       "Transmission     0.08\n",
       "Body type        5.60\n",
       "CO2 emission    10.20\n",
       "Door             9.18\n",
       "Seat            37.17\n",
       "Engine size      8.78\n",
       "data_source      0.00\n",
       "Model_1          0.00\n",
       "Model_2          0.00\n",
       "dtype: float64"
      ]
     },
     "execution_count": 93,
     "metadata": {},
     "output_type": "execute_result"
    }
   ],
   "source": [
    "group_columns = ['Model_1', 'Year']\n",
    "\n",
    "df = fill_nan_with_group_mean(df, 'Milage', group_columns)\n",
    "\n",
    "missing_percentage(df)"
   ]
  },
  {
   "cell_type": "markdown",
   "id": "2ba4b26c",
   "metadata": {},
   "source": [
    "**Power**\n",
    "\n",
    "**model**, **engine size**, **cylinder** play role on **Power** of a car. On the other hand **year** and **consumption** might be helpful to determine the **Power** of a a car."
   ]
  },
  {
   "cell_type": "code",
   "execution_count": null,
   "id": "6d8e36ff",
   "metadata": {},
   "outputs": [],
   "source": [
    "# Fill NaN values in fill_column column with mode value grouped by the specified columns\n",
    "\n",
    "def fill_nan_with_group_mode(df, fill_column, group_columns):\n",
    "    for group, group_data in df.groupby(group_columns):\n",
    "        mode_values = group_data[fill_column].mode()\n",
    "        if not mode_values.empty:\n",
    "            mode_value = mode_values.iloc[0]\n",
    "            df.loc[group_data.index, fill_column] = df.loc[group_data.index, fill_column].fillna(mode_value)\n",
    "    return df\n"
   ]
  },
  {
   "cell_type": "code",
   "execution_count": 241,
   "id": "5bab0862",
   "metadata": {},
   "outputs": [
    {
     "data": {
      "text/plain": [
       "Date             0.00\n",
       "Source           0.00\n",
       "Make             0.00\n",
       "Model            0.00\n",
       "Price            0.00\n",
       "Milage           0.00\n",
       "Year             0.00\n",
       "Power            8.81\n",
       "Consumption     48.07\n",
       "Cylinder        79.54\n",
       "Gears           83.65\n",
       "Fuel Type        7.56\n",
       "Transmission     0.08\n",
       "Body type        5.60\n",
       "CO2 emission    10.20\n",
       "Door             9.18\n",
       "Seat            37.17\n",
       "Engine size      8.78\n",
       "data_source      0.00\n",
       "Model_1          0.00\n",
       "Model_2          0.00\n",
       "dtype: float64"
      ]
     },
     "execution_count": 241,
     "metadata": {},
     "output_type": "execute_result"
    }
   ],
   "source": [
    "# After a couple of experiments, I minimized the NaN values on Power col\n",
    "\n",
    "fill_column = 'Power'\n",
    "\n",
    "# fill by model, year and engine size combinations\n",
    "group_columns = ['Model_1', 'Year', 'Consumption', 'Cylinder', 'Engine size']\n",
    "df = fill_nan_with_group_mode(df, fill_column, group_columns)\n",
    "\n",
    "# fill by model, year and engine size combinations\n",
    "group_columns = ['Model_1', 'Year', 'Engine size']\n",
    "df = fill_nan_with_group_mode(df, fill_column, group_columns)\n",
    "\n",
    "# fill by model, year and consumption combination\n",
    "group_columns = ['Model_1','Year', 'Consumption']\n",
    "df = fill_nan_with_group_mode(df, fill_column, group_columns)\n",
    "\n",
    "# fill by model, year and consumption combination\n",
    "group_columns = ['Model_1','Year', 'Cylinder']\n",
    "df = fill_nan_with_group_mode(df, fill_column, group_columns)\n",
    "\n",
    "\n",
    "missing_percentage(df)"
   ]
  },
  {
   "cell_type": "code",
   "execution_count": null,
   "id": "19a33a59",
   "metadata": {},
   "outputs": [],
   "source": []
  },
  {
   "cell_type": "markdown",
   "id": "fcdafacb",
   "metadata": {},
   "source": [
    "**Consumption**"
   ]
  },
  {
   "cell_type": "code",
   "execution_count": 245,
   "id": "14ad7185",
   "metadata": {},
   "outputs": [
    {
     "data": {
      "text/plain": [
       "Date             0.00\n",
       "Source           0.00\n",
       "Make             0.00\n",
       "Model            0.00\n",
       "Price            0.00\n",
       "Milage           0.00\n",
       "Year             0.00\n",
       "Power            8.81\n",
       "Consumption      9.43\n",
       "Cylinder        79.54\n",
       "Gears           83.65\n",
       "Fuel Type        7.56\n",
       "Transmission     0.08\n",
       "Body type        5.60\n",
       "CO2 emission    10.20\n",
       "Door             9.18\n",
       "Seat            37.17\n",
       "Engine size      8.78\n",
       "data_source      0.00\n",
       "Model_1          0.00\n",
       "Model_2          0.00\n",
       "dtype: float64"
      ]
     },
     "execution_count": 245,
     "metadata": {},
     "output_type": "execute_result"
    }
   ],
   "source": [
    "fill_column = 'Consumption'\n",
    "\n",
    "# fill by model, year, power, cylinder and engine size combinations\n",
    "group_columns = ['Model_1', 'Year', 'Power', 'Cylinder', 'Engine size']\n",
    "df = fill_nan_with_group_mode(df, fill_column, group_columns)\n",
    "\n",
    "group_columns = ['Model_1', 'Year', 'Power']\n",
    "df = fill_nan_with_group_mode(df, fill_column, group_columns)\n",
    "\n",
    "group_columns = ['Model_1', 'Year', 'Cylinder']\n",
    "df = fill_nan_with_group_mode(df, fill_column, group_columns)\n",
    "\n",
    "group_columns = ['Model_1', 'Year', 'Engine size']\n",
    "df = fill_nan_with_group_mode(df, fill_column, group_columns)\n",
    "\n",
    "\n",
    "missing_percentage(df)"
   ]
  },
  {
   "cell_type": "code",
   "execution_count": null,
   "id": "b9c07500",
   "metadata": {},
   "outputs": [],
   "source": []
  },
  {
   "cell_type": "markdown",
   "id": "504c54e5",
   "metadata": {},
   "source": [
    "**Cylinder**"
   ]
  },
  {
   "cell_type": "code",
   "execution_count": 249,
   "id": "eaf28196",
   "metadata": {},
   "outputs": [
    {
     "data": {
      "text/plain": [
       "Date             0.00\n",
       "Source           0.00\n",
       "Make             0.00\n",
       "Model            0.00\n",
       "Price            0.00\n",
       "Milage           0.00\n",
       "Year             0.00\n",
       "Power            8.80\n",
       "Consumption      9.43\n",
       "Cylinder         9.86\n",
       "Gears           83.65\n",
       "Fuel Type        7.56\n",
       "Transmission     0.08\n",
       "Body type        5.60\n",
       "CO2 emission    10.20\n",
       "Door             9.18\n",
       "Seat            37.17\n",
       "Engine size      8.78\n",
       "data_source      0.00\n",
       "Model_1          0.00\n",
       "Model_2          0.00\n",
       "dtype: float64"
      ]
     },
     "execution_count": 249,
     "metadata": {},
     "output_type": "execute_result"
    }
   ],
   "source": [
    "fill_column = 'Cylinder'\n",
    "\n",
    "# fill by model, year, power, cylinder and engine size combinations\n",
    "group_columns = ['Model_1', 'Year', 'Power', 'Consumption', 'Engine size']\n",
    "df = fill_nan_with_group_mode(df, fill_column, group_columns)\n",
    "\n",
    "group_columns = ['Model_1', 'Year', 'Power']\n",
    "df = fill_nan_with_group_mode(df, fill_column, group_columns)\n",
    "\n",
    "group_columns = ['Model_1', 'Year', 'Consumption']\n",
    "df = fill_nan_with_group_mode(df, fill_column, group_columns)\n",
    "\n",
    "group_columns = ['Model_1', 'Year', 'Engine size']\n",
    "df = fill_nan_with_group_mode(df, fill_column, group_columns)\n",
    "\n",
    "\n",
    "missing_percentage(df_fill)"
   ]
  },
  {
   "cell_type": "code",
   "execution_count": null,
   "id": "8e4e1dc7",
   "metadata": {},
   "outputs": [],
   "source": []
  },
  {
   "cell_type": "markdown",
   "id": "acf4c4ab",
   "metadata": {},
   "source": [
    "**Engine size**"
   ]
  },
  {
   "cell_type": "code",
   "execution_count": 305,
   "id": "ccbf0fe0",
   "metadata": {},
   "outputs": [
    {
     "data": {
      "text/plain": [
       "Date             0.00\n",
       "Source           0.00\n",
       "Make             0.00\n",
       "Model            0.00\n",
       "Price            0.00\n",
       "Milage           0.00\n",
       "Year             0.00\n",
       "Power            8.81\n",
       "Consumption      9.43\n",
       "Cylinder         9.88\n",
       "Gears           83.65\n",
       "Fuel Type        7.56\n",
       "Transmission     0.08\n",
       "Body type        5.60\n",
       "CO2 emission    10.20\n",
       "Door             9.18\n",
       "Seat            37.17\n",
       "Engine size      8.61\n",
       "data_source      0.00\n",
       "Model_1          0.00\n",
       "Model_2          0.00\n",
       "dtype: float64"
      ]
     },
     "execution_count": 305,
     "metadata": {},
     "output_type": "execute_result"
    }
   ],
   "source": [
    "fill_column = 'Engine size'\n",
    "\n",
    "# fill by model, year, power, cylinder and engine size combinations\n",
    "group_columns = ['Model_1', 'Year', 'Power', 'Cylinder', 'Consumption']\n",
    "df = fill_nan_with_group_mode(df, fill_column, group_columns)\n",
    "\n",
    "group_columns = ['Model_1', 'Year', 'Power']\n",
    "df = fill_nan_with_group_mode(df, fill_column, group_columns)\n",
    "\n",
    "group_columns = ['Model_1', 'Year', 'Cylinder']\n",
    "df = fill_nan_with_group_mode(df, fill_column, group_columns)\n",
    "\n",
    "group_columns = ['Model_1', 'Year', 'Consumption']\n",
    "df = fill_nan_with_group_mode(df, fill_column, group_columns)\n",
    "\n",
    "missing_percentage(df)"
   ]
  },
  {
   "cell_type": "code",
   "execution_count": 297,
   "id": "9dc65060",
   "metadata": {},
   "outputs": [
    {
     "data": {
      "text/plain": [
       "441                           AYGO 1.0 VVT-i x-clusiv 5-Dr\n",
       "605                             AYGO 1.0 VVT-i x-play 5-Dr\n",
       "6041                             Yaris Hatchback 1.5 Hybri\n",
       "6074                              Yaris 1.5 Vvt-i Icon 5Dr\n",
       "7035                             YARIS 1.5 HYBRID GR-SPORT\n",
       "7037                              YARIS 1.5 VVT-I ICON 5DR\n",
       "18648     Auris Hybrid 1.8 VVT-i HSD Business Edition 5-Dr\n",
       "18707                Auris Hybrid 1.8 VVT-i HSD Excel 5-Dr\n",
       "22522                Yaris Hybrid 1.5 VVT-i Icon Tech 5-Dr\n",
       "22573                      Yaris Design Bi-tone 1.5 Hybrid\n",
       "22767                                Yaris Icon 1.5 Manual\n",
       "22773                                Yaris Icon 1.5 Hybrid\n",
       "22826                                Yaris Icon 1.5 Manual\n",
       "23086                 Yaris Hybrid 1.5 VVT-i GR Sport 5-Dr\n",
       "23658              RAV4 Dynamic 2.5 Hybrid All Wheel Drive\n",
       "23659                          RAV4 Excel 2.5 Hybrid AWD-i\n",
       "23857                 Rav4 2.5 VVT-i (215bhp) Excel Hybrid\n",
       "24013    RAV4 2.0 D-4D Excel SUV 5dr Diesel Euro 6 (s/s...\n",
       "24067               RAV4 5Dr 2.5 (219bhp) Excel AWD Hybrid\n",
       "24113              RAV 4 2.5 VVT-i (215bhp) Dynamic Hybrid\n",
       "24144                        RAV4 2.5 Hybrid Icon FWD 5-Dr\n",
       "24248    RAV4 PHEV RAV4 Dynamic 2.5 Plug-in Hybrid Auto...\n",
       "31712         Tiguan 2.0 TDI SE Nav SUV 5dr Diesel 4Motion\n",
       "31855           Tiguan 1.5 TSI 130PS 6-speed Manual 5 door\n",
       "35339    Kuga 2.0 TDCi Titanium X SUV 5dr Diesel Powers...\n",
       "48931                  Yaris Hybrid 1.5 VVT-i (100bhp) Y20\n",
       "49491                         AYGO 1.0 VVT-i x-clusiv 5-Dr\n",
       "49656                           AYGO 1.0 VVT-i x-play 5-Dr\n",
       "Name: Model, dtype: object"
      ]
     },
     "execution_count": 297,
     "metadata": {},
     "output_type": "execute_result"
    }
   ],
   "source": [
    "# check whether engine size can extract from Model string\n",
    "\n",
    "values_to_filter = [str(round(i, 1)) for i in np.linspace(1,5, 41)]\n",
    "\n",
    "model_engine_filter =(df['Model'].str.contains(' | '.join(values_to_filter)))\n",
    "\n",
    "engine_nan = (df['Engine size'].isnull())\n",
    "\n",
    "df.loc[model_engine_filter].Model"
   ]
  },
  {
   "cell_type": "code",
   "execution_count": 301,
   "id": "f3bc2c25",
   "metadata": {
    "scrolled": true
   },
   "outputs": [
    {
     "data": {
      "text/html": [
       "<div>\n",
       "<style scoped>\n",
       "    .dataframe tbody tr th:only-of-type {\n",
       "        vertical-align: middle;\n",
       "    }\n",
       "\n",
       "    .dataframe tbody tr th {\n",
       "        vertical-align: top;\n",
       "    }\n",
       "\n",
       "    .dataframe thead th {\n",
       "        text-align: right;\n",
       "    }\n",
       "</style>\n",
       "<table border=\"1\" class=\"dataframe\">\n",
       "  <thead>\n",
       "    <tr style=\"text-align: right;\">\n",
       "      <th></th>\n",
       "      <th>Date</th>\n",
       "      <th>Source</th>\n",
       "      <th>Make</th>\n",
       "      <th>Model</th>\n",
       "      <th>Price</th>\n",
       "      <th>Milage</th>\n",
       "      <th>Year</th>\n",
       "      <th>Power</th>\n",
       "      <th>Consumption</th>\n",
       "      <th>Cylinder</th>\n",
       "      <th>...</th>\n",
       "      <th>Fuel Type</th>\n",
       "      <th>Transmission</th>\n",
       "      <th>Body type</th>\n",
       "      <th>CO2 emission</th>\n",
       "      <th>Door</th>\n",
       "      <th>Seat</th>\n",
       "      <th>Engine size</th>\n",
       "      <th>data_source</th>\n",
       "      <th>Model_1</th>\n",
       "      <th>Model_2</th>\n",
       "    </tr>\n",
       "  </thead>\n",
       "  <tbody>\n",
       "  </tbody>\n",
       "</table>\n",
       "<p>0 rows × 21 columns</p>\n",
       "</div>"
      ],
      "text/plain": [
       "Empty DataFrame\n",
       "Columns: [Date, Source, Make, Model, Price, Milage, Year, Power, Consumption, Cylinder, Gears, Fuel Type, Transmission, Body type, CO2 emission, Door, Seat, Engine size, data_source, Model_1, Model_2]\n",
       "Index: []\n",
       "\n",
       "[0 rows x 21 columns]"
      ]
     },
     "execution_count": 301,
     "metadata": {},
     "output_type": "execute_result"
    }
   ],
   "source": [
    "# There is no data, which engine size value is nan and Model col contains engine size info.\n",
    "\n",
    "df.loc[model_engine_filter & engine_nan]"
   ]
  },
  {
   "cell_type": "markdown",
   "id": "cdd27735",
   "metadata": {},
   "source": [
    "**Gears**"
   ]
  },
  {
   "cell_type": "code",
   "execution_count": 317,
   "id": "9e837db0",
   "metadata": {},
   "outputs": [
    {
     "data": {
      "text/plain": [
       "Date             0.00\n",
       "Source           0.00\n",
       "Make             0.00\n",
       "Model            0.00\n",
       "Price            0.00\n",
       "Milage           0.00\n",
       "Year             0.00\n",
       "Power            8.81\n",
       "Consumption      9.43\n",
       "Cylinder         9.88\n",
       "Gears            0.01\n",
       "Fuel Type        7.56\n",
       "Transmission     0.08\n",
       "Body type        5.60\n",
       "CO2 emission    10.20\n",
       "Door             9.18\n",
       "Seat            37.17\n",
       "Engine size      8.61\n",
       "data_source      0.00\n",
       "Model_1          0.00\n",
       "Model_2          0.00\n",
       "dtype: float64"
      ]
     },
     "execution_count": 317,
     "metadata": {},
     "output_type": "execute_result"
    }
   ],
   "source": [
    "fill_column = 'Gears'\n",
    "\n",
    "# fill by model, power, cylinder, engine size and transmission\n",
    "group_columns = ['Model_1', 'Power', 'Cylinder', 'Engine size', 'Transmission']\n",
    "df = fill_nan_with_group_mode(df, fill_column, group_columns)\n",
    "\n",
    "group_columns = ['Model_1', 'Power']\n",
    "df = fill_nan_with_group_mode(df, fill_column, group_columns)\n",
    "\n",
    "group_columns = ['Model_1', 'Cylinder']\n",
    "df = fill_nan_with_group_mode(df, fill_column, group_columns)\n",
    "\n",
    "group_columns = ['Model_1', 'Engine size']\n",
    "df = fill_nan_with_group_mode(df, fill_column, group_columns)\n",
    "\n",
    "group_columns = ['Model_1', 'Transmission']\n",
    "df = fill_nan_with_group_mode(df, fill_column, group_columns)\n",
    "\n",
    "missing_percentage(df)"
   ]
  },
  {
   "cell_type": "code",
   "execution_count": null,
   "id": "34c8ef31",
   "metadata": {},
   "outputs": [],
   "source": []
  },
  {
   "cell_type": "markdown",
   "id": "b37171a2",
   "metadata": {},
   "source": [
    "**Fuel Type**"
   ]
  },
  {
   "cell_type": "code",
   "execution_count": 324,
   "id": "51c80049",
   "metadata": {},
   "outputs": [
    {
     "data": {
      "text/plain": [
       "Date             0.00\n",
       "Source           0.00\n",
       "Make             0.00\n",
       "Model            0.00\n",
       "Price            0.00\n",
       "Milage           0.00\n",
       "Year             0.00\n",
       "Power            8.81\n",
       "Consumption      9.43\n",
       "Cylinder         9.88\n",
       "Gears            0.01\n",
       "Fuel Type        7.41\n",
       "Transmission     0.08\n",
       "Body type        5.60\n",
       "CO2 emission    10.20\n",
       "Door             9.18\n",
       "Seat            37.17\n",
       "Engine size      8.61\n",
       "data_source      0.00\n",
       "Model_1          0.00\n",
       "Model_2          0.00\n",
       "dtype: float64"
      ]
     },
     "execution_count": 324,
     "metadata": {},
     "output_type": "execute_result"
    }
   ],
   "source": [
    "fill_column = 'Fuel Type'\n",
    "\n",
    "# fill by model, power, consumption,engine size, co2 emission combinations\n",
    "group_columns = ['Model_1', 'Power', 'Consumption', 'Engine size', 'CO2 emission']\n",
    "df = fill_nan_with_group_mode(df, fill_column, group_columns)\n",
    "\n",
    "group_columns = ['Model_1', 'Power']\n",
    "df = fill_nan_with_group_mode(df, fill_column, group_columns)\n",
    "\n",
    "group_columns = ['Model_1', 'Consumption']\n",
    "df = fill_nan_with_group_mode(df, fill_column, group_columns)\n",
    "\n",
    "group_columns = ['Model_1', 'Engine size']\n",
    "df = fill_nan_with_group_mode(df, fill_column, group_columns)\n",
    "\n",
    "group_columns = ['Model_1', 'CO2 emission']\n",
    "df = fill_nan_with_group_mode(df, fill_column, group_columns)\n",
    "\n",
    "missing_percentage(df)"
   ]
  },
  {
   "cell_type": "code",
   "execution_count": null,
   "id": "92e5f40d",
   "metadata": {},
   "outputs": [],
   "source": []
  },
  {
   "cell_type": "markdown",
   "id": "c5173555",
   "metadata": {},
   "source": [
    "**Transmission**"
   ]
  },
  {
   "cell_type": "code",
   "execution_count": 328,
   "id": "42502bb1",
   "metadata": {},
   "outputs": [
    {
     "data": {
      "text/plain": [
       "Date             0.00\n",
       "Source           0.00\n",
       "Make             0.00\n",
       "Model            0.00\n",
       "Price            0.00\n",
       "Milage           0.00\n",
       "Year             0.00\n",
       "Power            8.81\n",
       "Consumption      9.43\n",
       "Cylinder         9.88\n",
       "Gears            0.01\n",
       "Fuel Type        7.41\n",
       "Transmission     0.00\n",
       "Body type        5.60\n",
       "CO2 emission    10.20\n",
       "Door             9.18\n",
       "Seat            37.17\n",
       "Engine size      8.61\n",
       "data_source      0.00\n",
       "Model_1          0.00\n",
       "Model_2          0.00\n",
       "dtype: float64"
      ]
     },
     "execution_count": 328,
     "metadata": {},
     "output_type": "execute_result"
    }
   ],
   "source": [
    "fill_column = 'Transmission'\n",
    "\n",
    "# fill by model, power, consumption,engine size, co2 emission, Gears combinations\n",
    "group_columns = ['Model_1', 'Power', 'Consumption', 'Engine size', 'CO2 emission', 'Gears']\n",
    "df = fill_nan_with_group_mode(df, fill_column, group_columns)\n",
    "\n",
    "group_columns = ['Model_1', 'Power']\n",
    "df = fill_nan_with_group_mode(df, fill_column, group_columns)\n",
    "\n",
    "group_columns = ['Model_1', 'Consumption']\n",
    "df = fill_nan_with_group_mode(df, fill_column, group_columns)\n",
    "\n",
    "group_columns = ['Model_1', 'Engine size']\n",
    "df = fill_nan_with_group_mode(df, fill_column, group_columns)\n",
    "\n",
    "group_columns = ['Model_1', 'CO2 emission']\n",
    "df = fill_nan_with_group_mode(df, fill_column, group_columns)\n",
    "\n",
    "group_columns = ['Model_1', 'Gears']\n",
    "df = fill_nan_with_group_mode(df, fill_column, group_columns)\n",
    "\n",
    "missing_percentage(df)"
   ]
  },
  {
   "cell_type": "code",
   "execution_count": null,
   "id": "eeba25ef",
   "metadata": {},
   "outputs": [],
   "source": []
  },
  {
   "cell_type": "markdown",
   "id": "75159472",
   "metadata": {},
   "source": [
    "**Body type**"
   ]
  },
  {
   "cell_type": "code",
   "execution_count": 330,
   "id": "d4e4f48c",
   "metadata": {},
   "outputs": [
    {
     "data": {
      "text/plain": [
       "Date             0.00\n",
       "Source           0.00\n",
       "Make             0.00\n",
       "Model            0.00\n",
       "Price            0.00\n",
       "Milage           0.00\n",
       "Year             0.00\n",
       "Power            8.81\n",
       "Consumption      9.43\n",
       "Cylinder         9.88\n",
       "Gears            0.01\n",
       "Fuel Type        7.41\n",
       "Transmission     0.00\n",
       "Body type        0.00\n",
       "CO2 emission    10.20\n",
       "Door             9.18\n",
       "Seat            37.17\n",
       "Engine size      8.61\n",
       "data_source      0.00\n",
       "Model_1          0.00\n",
       "Model_2          0.00\n",
       "dtype: float64"
      ]
     },
     "execution_count": 330,
     "metadata": {},
     "output_type": "execute_result"
    }
   ],
   "source": [
    "fill_column = 'Body type'\n",
    "\n",
    "# fill by model, power, consumption, Engine size, gears, door, seat \n",
    "group_columns = ['Model_1', 'Power', 'Consumption', 'Engine size', 'Gears', 'Door', 'Seat']\n",
    "df = fill_nan_with_group_mode(df, fill_column, group_columns)\n",
    "\n",
    "group_columns = ['Model_1', 'Power']\n",
    "df = fill_nan_with_group_mode(df, fill_column, group_columns)\n",
    "\n",
    "group_columns = ['Model_1', 'Consumption']\n",
    "df = fill_nan_with_group_mode(df, fill_column, group_columns)\n",
    "\n",
    "group_columns = ['Model_1', 'Engine size']\n",
    "df = fill_nan_with_group_mode(df, fill_column, group_columns)\n",
    "\n",
    "group_columns = ['Model_1', 'Gears']\n",
    "df = fill_nan_with_group_mode(df, fill_column, group_columns)\n",
    "\n",
    "group_columns = ['Model_1', 'Door']\n",
    "df = fill_nan_with_group_mode(df, fill_column, group_columns)\n",
    "\n",
    "group_columns = ['Model_1', 'Seat']\n",
    "df = fill_nan_with_group_mode(df, fill_column, group_columns)\n",
    "\n",
    "missing_percentage(df)"
   ]
  },
  {
   "cell_type": "code",
   "execution_count": null,
   "id": "d9052c58",
   "metadata": {},
   "outputs": [],
   "source": []
  },
  {
   "cell_type": "markdown",
   "id": "643ae844",
   "metadata": {},
   "source": [
    "**CO2 emission**\n"
   ]
  },
  {
   "cell_type": "code",
   "execution_count": 332,
   "id": "9a2e873f",
   "metadata": {},
   "outputs": [
    {
     "data": {
      "text/plain": [
       "Date             0.00\n",
       "Source           0.00\n",
       "Make             0.00\n",
       "Model            0.00\n",
       "Price            0.00\n",
       "Milage           0.00\n",
       "Year             0.00\n",
       "Power            8.81\n",
       "Consumption      9.43\n",
       "Cylinder         9.88\n",
       "Gears            0.01\n",
       "Fuel Type        7.41\n",
       "Transmission     0.00\n",
       "Body type        0.00\n",
       "CO2 emission     0.00\n",
       "Door             9.18\n",
       "Seat            37.17\n",
       "Engine size      8.61\n",
       "data_source      0.00\n",
       "Model_1          0.00\n",
       "Model_2          0.00\n",
       "dtype: float64"
      ]
     },
     "execution_count": 332,
     "metadata": {},
     "output_type": "execute_result"
    }
   ],
   "source": [
    "fill_column = 'CO2 emission'\n",
    "\n",
    "# fill by model, power, consumption, Engine size, gears, transmission\n",
    "group_columns = ['Model_1', 'Power', 'Consumption', 'Engine size', 'Gears', 'Transmission']\n",
    "df = fill_nan_with_group_mode(df, fill_column, group_columns)\n",
    "\n",
    "group_columns = ['Model_1', 'Power']\n",
    "df = fill_nan_with_group_mode(df, fill_column, group_columns)\n",
    "\n",
    "group_columns = ['Model_1', 'Consumption']\n",
    "df = fill_nan_with_group_mode(df, fill_column, group_columns)\n",
    "\n",
    "group_columns = ['Model_1', 'Engine size']\n",
    "df = fill_nan_with_group_mode(df, fill_column, group_columns)\n",
    "\n",
    "group_columns = ['Model_1', 'Gears']\n",
    "df = fill_nan_with_group_mode(df, fill_column, group_columns)\n",
    "\n",
    "group_columns = ['Model_1', 'Transmission']\n",
    "df = fill_nan_with_group_mode(df, fill_column, group_columns)\n",
    "\n",
    "missing_percentage(df)"
   ]
  },
  {
   "cell_type": "code",
   "execution_count": null,
   "id": "75aab35f",
   "metadata": {},
   "outputs": [],
   "source": []
  },
  {
   "cell_type": "markdown",
   "id": "a77d5b3b",
   "metadata": {},
   "source": [
    "**Door**"
   ]
  },
  {
   "cell_type": "code",
   "execution_count": 334,
   "id": "ca45ee8a",
   "metadata": {},
   "outputs": [
    {
     "data": {
      "text/plain": [
       "Date             0.00\n",
       "Source           0.00\n",
       "Make             0.00\n",
       "Model            0.00\n",
       "Price            0.00\n",
       "Milage           0.00\n",
       "Year             0.00\n",
       "Power            8.81\n",
       "Consumption      9.43\n",
       "Cylinder         9.88\n",
       "Gears            0.01\n",
       "Fuel Type        7.41\n",
       "Transmission     0.00\n",
       "Body type        0.00\n",
       "CO2 emission     0.00\n",
       "Door             0.00\n",
       "Seat            37.17\n",
       "Engine size      8.61\n",
       "data_source      0.00\n",
       "Model_1          0.00\n",
       "Model_2          0.00\n",
       "dtype: float64"
      ]
     },
     "execution_count": 334,
     "metadata": {},
     "output_type": "execute_result"
    }
   ],
   "source": [
    "fill_column = 'Door'\n",
    "\n",
    "# fill by model, body_type, seat\n",
    "group_columns = ['Model_1', 'Body type', 'Seat']\n",
    "df = fill_nan_with_group_mode(df, fill_column, group_columns)\n",
    "\n",
    "group_columns = ['Model_1', 'Body type']\n",
    "df = fill_nan_with_group_mode(df, fill_column, group_columns)\n",
    "\n",
    "group_columns = ['Model_1', 'Seat']\n",
    "df = fill_nan_with_group_mode(df, fill_column, group_columns)\n",
    "\n",
    "missing_percentage(df)"
   ]
  },
  {
   "cell_type": "code",
   "execution_count": null,
   "id": "692fe0d2",
   "metadata": {},
   "outputs": [],
   "source": []
  },
  {
   "cell_type": "markdown",
   "id": "e46231f3",
   "metadata": {},
   "source": [
    "**Seat**"
   ]
  },
  {
   "cell_type": "code",
   "execution_count": 337,
   "id": "39ddaaa0",
   "metadata": {},
   "outputs": [
    {
     "data": {
      "text/plain": [
       "Date            0.00\n",
       "Source          0.00\n",
       "Make            0.00\n",
       "Model           0.00\n",
       "Price           0.00\n",
       "Milage          0.00\n",
       "Year            0.00\n",
       "Power           8.81\n",
       "Consumption     9.43\n",
       "Cylinder        9.88\n",
       "Gears           0.01\n",
       "Fuel Type       7.41\n",
       "Transmission    0.00\n",
       "Body type       0.00\n",
       "CO2 emission    0.00\n",
       "Door            0.00\n",
       "Seat            0.02\n",
       "Engine size     8.61\n",
       "data_source     0.00\n",
       "Model_1         0.00\n",
       "Model_2         0.00\n",
       "dtype: float64"
      ]
     },
     "execution_count": 337,
     "metadata": {},
     "output_type": "execute_result"
    }
   ],
   "source": [
    "fill_column = 'Seat'\n",
    "\n",
    "# fill by model, body_type, Door\n",
    "group_columns = ['Model_1', 'Body type', 'Door']\n",
    "df = fill_nan_with_group_mode(df, fill_column, group_columns)\n",
    "\n",
    "group_columns = ['Model_1', 'Body type']\n",
    "df = fill_nan_with_group_mode(df, fill_column, group_columns)\n",
    "\n",
    "group_columns = ['Model_1', 'Door']\n",
    "df = fill_nan_with_group_mode(df, fill_column, group_columns)\n",
    "\n",
    "missing_percentage(df)\n"
   ]
  },
  {
   "cell_type": "markdown",
   "id": "3344d39d",
   "metadata": {},
   "source": [
    "**Revisit cols with Nan val**"
   ]
  },
  {
   "cell_type": "code",
   "execution_count": 339,
   "id": "bf13ac6f",
   "metadata": {},
   "outputs": [
    {
     "data": {
      "text/plain": [
       "Date            0.00\n",
       "Source          0.00\n",
       "Make            0.00\n",
       "Model           0.00\n",
       "Price           0.00\n",
       "Milage          0.00\n",
       "Year            0.00\n",
       "Power           0.14\n",
       "Consumption     9.43\n",
       "Cylinder        9.88\n",
       "Gears           0.01\n",
       "Fuel Type       7.41\n",
       "Transmission    0.00\n",
       "Body type       0.00\n",
       "CO2 emission    0.00\n",
       "Door            0.00\n",
       "Seat            0.02\n",
       "Engine size     8.61\n",
       "data_source     0.00\n",
       "Model_1         0.00\n",
       "Model_2         0.00\n",
       "dtype: float64"
      ]
     },
     "execution_count": 339,
     "metadata": {},
     "output_type": "execute_result"
    }
   ],
   "source": [
    "fill_column = 'Power'\n",
    "\n",
    "# fill by model, CO2 emission\n",
    "group_columns = ['Model_1', 'CO2 emission']\n",
    "df = fill_nan_with_group_mode(df, fill_column, group_columns)\n",
    "\n",
    "missing_percentage(df)"
   ]
  },
  {
   "cell_type": "code",
   "execution_count": 340,
   "id": "51bc25c7",
   "metadata": {},
   "outputs": [
    {
     "data": {
      "text/plain": [
       "Date            0.00\n",
       "Source          0.00\n",
       "Make            0.00\n",
       "Model           0.00\n",
       "Price           0.00\n",
       "Milage          0.00\n",
       "Year            0.00\n",
       "Power           0.14\n",
       "Consumption     0.35\n",
       "Cylinder        9.88\n",
       "Gears           0.01\n",
       "Fuel Type       7.41\n",
       "Transmission    0.00\n",
       "Body type       0.00\n",
       "CO2 emission    0.00\n",
       "Door            0.00\n",
       "Seat            0.02\n",
       "Engine size     8.61\n",
       "data_source     0.00\n",
       "Model_1         0.00\n",
       "Model_2         0.00\n",
       "dtype: float64"
      ]
     },
     "execution_count": 340,
     "metadata": {},
     "output_type": "execute_result"
    }
   ],
   "source": [
    "fill_column = 'Consumption'\n",
    "\n",
    "# fill by model, CO2 emission\n",
    "group_columns = ['Model_1', 'CO2 emission']\n",
    "df = fill_nan_with_group_mode(df, fill_column, group_columns)\n",
    "\n",
    "missing_percentage(df)"
   ]
  },
  {
   "cell_type": "code",
   "execution_count": 341,
   "id": "1678ca16",
   "metadata": {},
   "outputs": [
    {
     "data": {
      "text/plain": [
       "Date            0.00\n",
       "Source          0.00\n",
       "Make            0.00\n",
       "Model           0.00\n",
       "Price           0.00\n",
       "Milage          0.00\n",
       "Year            0.00\n",
       "Power           0.14\n",
       "Consumption     0.35\n",
       "Cylinder        0.40\n",
       "Gears           0.01\n",
       "Fuel Type       7.41\n",
       "Transmission    0.00\n",
       "Body type       0.00\n",
       "CO2 emission    0.00\n",
       "Door            0.00\n",
       "Seat            0.02\n",
       "Engine size     8.61\n",
       "data_source     0.00\n",
       "Model_1         0.00\n",
       "Model_2         0.00\n",
       "dtype: float64"
      ]
     },
     "execution_count": 341,
     "metadata": {},
     "output_type": "execute_result"
    }
   ],
   "source": [
    "fill_column = 'Cylinder'\n",
    "\n",
    "# fill by model, CO2 emission\n",
    "group_columns = ['Model_1', 'CO2 emission']\n",
    "df = fill_nan_with_group_mode(df, fill_column, group_columns)\n",
    "\n",
    "missing_percentage(df)"
   ]
  },
  {
   "cell_type": "code",
   "execution_count": 342,
   "id": "282c6527",
   "metadata": {},
   "outputs": [
    {
     "data": {
      "text/plain": [
       "Date            0.00\n",
       "Source          0.00\n",
       "Make            0.00\n",
       "Model           0.00\n",
       "Price           0.00\n",
       "Milage          0.00\n",
       "Year            0.00\n",
       "Power           0.14\n",
       "Consumption     0.35\n",
       "Cylinder        0.40\n",
       "Gears           0.01\n",
       "Fuel Type       0.00\n",
       "Transmission    0.00\n",
       "Body type       0.00\n",
       "CO2 emission    0.00\n",
       "Door            0.00\n",
       "Seat            0.02\n",
       "Engine size     8.61\n",
       "data_source     0.00\n",
       "Model_1         0.00\n",
       "Model_2         0.00\n",
       "dtype: float64"
      ]
     },
     "execution_count": 342,
     "metadata": {},
     "output_type": "execute_result"
    }
   ],
   "source": [
    "fill_column = 'Fuel Type'\n",
    "\n",
    "# fill by model, CO2 emission\n",
    "group_columns = ['Model_1', 'CO2 emission']\n",
    "df = fill_nan_with_group_mode(df, fill_column, group_columns)\n",
    "\n",
    "missing_percentage(df)"
   ]
  },
  {
   "cell_type": "code",
   "execution_count": 343,
   "id": "2a6c244e",
   "metadata": {},
   "outputs": [
    {
     "data": {
      "text/plain": [
       "Date            0.00\n",
       "Source          0.00\n",
       "Make            0.00\n",
       "Model           0.00\n",
       "Price           0.00\n",
       "Milage          0.00\n",
       "Year            0.00\n",
       "Power           0.14\n",
       "Consumption     0.35\n",
       "Cylinder        0.40\n",
       "Gears           0.01\n",
       "Fuel Type       0.00\n",
       "Transmission    0.00\n",
       "Body type       0.00\n",
       "CO2 emission    0.00\n",
       "Door            0.00\n",
       "Seat            0.02\n",
       "Engine size     0.00\n",
       "data_source     0.00\n",
       "Model_1         0.00\n",
       "Model_2         0.00\n",
       "dtype: float64"
      ]
     },
     "execution_count": 343,
     "metadata": {},
     "output_type": "execute_result"
    }
   ],
   "source": [
    "fill_column = 'Engine size'\n",
    "\n",
    "# fill by model, CO2 emission\n",
    "group_columns = ['Model_1', 'CO2 emission']\n",
    "df = fill_nan_with_group_mode(df, fill_column, group_columns)\n",
    "\n",
    "missing_percentage(df)"
   ]
  },
  {
   "cell_type": "markdown",
   "id": "ba8a5836",
   "metadata": {},
   "source": [
    "### Drop missing values"
   ]
  },
  {
   "cell_type": "code",
   "execution_count": 345,
   "id": "45880146",
   "metadata": {},
   "outputs": [
    {
     "data": {
      "text/plain": [
       "1"
      ]
     },
     "execution_count": 345,
     "metadata": {},
     "output_type": "execute_result"
    }
   ],
   "source": [
    "# drop values\n",
    "\n",
    "engine_nan = (df['Engine size'].isnull())\n",
    "\n",
    "Power_nan = (df['Power'].isnull())\n",
    "\n",
    "Consumption_nan = (df['Consumption'].isnull())\n",
    "\n",
    "Cylinder_nan = (df['Cylinder'].isnull())\n",
    "\n",
    "Gears_nan = (df['Gears'].isnull())\n",
    "\n",
    "Seat_nan = (df['Seat'].isnull())\n",
    "\n",
    "len(df.loc[engine_nan & Power_nan & Consumption_nan & Cylinder_nan & Gears_nan & Seat_nan])"
   ]
  },
  {
   "cell_type": "code",
   "execution_count": 346,
   "id": "3f8f0b75",
   "metadata": {},
   "outputs": [
    {
     "data": {
      "text/plain": [
       "468"
      ]
     },
     "execution_count": 346,
     "metadata": {},
     "output_type": "execute_result"
    }
   ],
   "source": [
    "len(df.loc[engine_nan | Power_nan | Consumption_nan | Cylinder_nan | Gears_nan | Seat_nan])"
   ]
  },
  {
   "cell_type": "code",
   "execution_count": 351,
   "id": "0fce5f8a",
   "metadata": {},
   "outputs": [],
   "source": [
    "idx_drop = df.loc[engine_nan | Power_nan | Consumption_nan | Cylinder_nan | Gears_nan | Seat_nan].index\n",
    "\n",
    "df = df.drop(index=idx_drop)"
   ]
  },
  {
   "cell_type": "code",
   "execution_count": 352,
   "id": "4c3d1ac5",
   "metadata": {},
   "outputs": [
    {
     "data": {
      "text/plain": [
       "Date            0.0\n",
       "Source          0.0\n",
       "Make            0.0\n",
       "Model           0.0\n",
       "Price           0.0\n",
       "Milage          0.0\n",
       "Year            0.0\n",
       "Power           0.0\n",
       "Consumption     0.0\n",
       "Cylinder        0.0\n",
       "Gears           0.0\n",
       "Fuel Type       0.0\n",
       "Transmission    0.0\n",
       "Body type       0.0\n",
       "CO2 emission    0.0\n",
       "Door            0.0\n",
       "Seat            0.0\n",
       "Engine size     0.0\n",
       "data_source     0.0\n",
       "Model_1         0.0\n",
       "Model_2         0.0\n",
       "dtype: float64"
      ]
     },
     "execution_count": 352,
     "metadata": {},
     "output_type": "execute_result"
    }
   ],
   "source": [
    "missing_percentage(df)"
   ]
  },
  {
   "cell_type": "markdown",
   "id": "13f1cad4",
   "metadata": {},
   "source": [
    "### Save Data"
   ]
  },
  {
   "cell_type": "code",
   "execution_count": 353,
   "id": "858bced9",
   "metadata": {},
   "outputs": [],
   "source": [
    "# save this version of data incase\n",
    "\n",
    "df.to_pickle('data2')"
   ]
  },
  {
   "cell_type": "markdown",
   "id": "b6310df1",
   "metadata": {},
   "source": [
    "### Data for ML\n",
    "\n",
    "Prepare data for ML model"
   ]
  },
  {
   "cell_type": "code",
   "execution_count": 354,
   "id": "75c17fc2",
   "metadata": {},
   "outputs": [
    {
     "data": {
      "text/plain": [
       "Index(['Date', 'Source', 'Make', 'Model', 'Price', 'Milage', 'Year', 'Power',\n",
       "       'Consumption', 'Cylinder', 'Gears', 'Fuel Type', 'Transmission',\n",
       "       'Body type', 'CO2 emission', 'Door', 'Seat', 'Engine size',\n",
       "       'data_source', 'Model_1', 'Model_2'],\n",
       "      dtype='object')"
      ]
     },
     "execution_count": 354,
     "metadata": {},
     "output_type": "execute_result"
    }
   ],
   "source": [
    "df.columns"
   ]
  },
  {
   "cell_type": "code",
   "execution_count": 355,
   "id": "3a7faa42",
   "metadata": {},
   "outputs": [
    {
     "data": {
      "text/plain": [
       "Index(['Date', 'Source', 'Model', 'Model_2'], dtype='object')"
      ]
     },
     "execution_count": 355,
     "metadata": {},
     "output_type": "execute_result"
    }
   ],
   "source": [
    "# we are not going to use data, url, model and model_2 columns in model\n",
    "\n",
    "drop_col = df.columns[[0,1,3,-1]]\n",
    "\n",
    "drop_col"
   ]
  },
  {
   "cell_type": "code",
   "execution_count": 356,
   "id": "8a827c69",
   "metadata": {},
   "outputs": [
    {
     "data": {
      "text/plain": [
       "Index(['Make', 'Price', 'Milage', 'Year', 'Power', 'Consumption', 'Cylinder',\n",
       "       'Gears', 'Fuel Type', 'Transmission', 'Body type', 'CO2 emission',\n",
       "       'Door', 'Seat', 'Engine size', 'data_source', 'Model_1'],\n",
       "      dtype='object')"
      ]
     },
     "execution_count": 356,
     "metadata": {},
     "output_type": "execute_result"
    }
   ],
   "source": [
    "# Save clean data for modelling\n",
    "\n",
    "data = df.drop(columns=drop_col)\n",
    "\n",
    "data.columns"
   ]
  },
  {
   "cell_type": "code",
   "execution_count": 357,
   "id": "a897de33",
   "metadata": {},
   "outputs": [
    {
     "name": "stdout",
     "output_type": "stream",
     "text": [
      "<class 'pandas.core.frame.DataFrame'>\n",
      "Int64Index: 108634 entries, 0 to 111738\n",
      "Data columns (total 17 columns):\n",
      " #   Column        Non-Null Count   Dtype  \n",
      "---  ------        --------------   -----  \n",
      " 0   Make          108634 non-null  object \n",
      " 1   Price         108634 non-null  float64\n",
      " 2   Milage        108634 non-null  float64\n",
      " 3   Year          108634 non-null  int32  \n",
      " 4   Power         108634 non-null  float64\n",
      " 5   Consumption   108634 non-null  float64\n",
      " 6   Cylinder      108634 non-null  float64\n",
      " 7   Gears         108634 non-null  float64\n",
      " 8   Fuel Type     108634 non-null  object \n",
      " 9   Transmission  108634 non-null  object \n",
      " 10  Body type     108634 non-null  object \n",
      " 11  CO2 emission  108634 non-null  float64\n",
      " 12  Door          108634 non-null  float64\n",
      " 13  Seat          108634 non-null  float64\n",
      " 14  Engine size   108634 non-null  float64\n",
      " 15  data_source   108634 non-null  object \n",
      " 16  Model_1       108634 non-null  object \n",
      "dtypes: float64(10), int32(1), object(6)\n",
      "memory usage: 14.5+ MB\n"
     ]
    }
   ],
   "source": [
    "data.info()"
   ]
  },
  {
   "cell_type": "code",
   "execution_count": 358,
   "id": "26ff8923",
   "metadata": {},
   "outputs": [],
   "source": [
    "# save cleaned data.\n",
    "\n",
    "data.to_pickle('data_cleaned')"
   ]
  },
  {
   "cell_type": "code",
   "execution_count": 359,
   "id": "40e70c92",
   "metadata": {},
   "outputs": [
    {
     "data": {
      "text/plain": [
       "Index(['Make', 'Fuel Type', 'Transmission', 'Body type', 'data_source',\n",
       "       'Model_1'],\n",
       "      dtype='object')"
      ]
     },
     "execution_count": 359,
     "metadata": {},
     "output_type": "execute_result"
    }
   ],
   "source": [
    "# some categorical fields must be encoded\n",
    "\n",
    "encode_col = data.columns[[0, 8, 9, 10, 15,16]]\n",
    "\n",
    "encode_col"
   ]
  },
  {
   "cell_type": "code",
   "execution_count": 360,
   "id": "3bd41245",
   "metadata": {},
   "outputs": [
    {
     "data": {
      "text/html": [
       "<div>\n",
       "<style scoped>\n",
       "    .dataframe tbody tr th:only-of-type {\n",
       "        vertical-align: middle;\n",
       "    }\n",
       "\n",
       "    .dataframe tbody tr th {\n",
       "        vertical-align: top;\n",
       "    }\n",
       "\n",
       "    .dataframe thead th {\n",
       "        text-align: right;\n",
       "    }\n",
       "</style>\n",
       "<table border=\"1\" class=\"dataframe\">\n",
       "  <thead>\n",
       "    <tr style=\"text-align: right;\">\n",
       "      <th></th>\n",
       "      <th>Price</th>\n",
       "      <th>Milage</th>\n",
       "      <th>Year</th>\n",
       "      <th>Power</th>\n",
       "      <th>Consumption</th>\n",
       "      <th>Cylinder</th>\n",
       "      <th>Gears</th>\n",
       "      <th>CO2 emission</th>\n",
       "      <th>Door</th>\n",
       "      <th>Seat</th>\n",
       "      <th>...</th>\n",
       "      <th>Model_1_KA</th>\n",
       "      <th>Model_1_Kuga</th>\n",
       "      <th>Model_1_Mokka</th>\n",
       "      <th>Model_1_Mondeo</th>\n",
       "      <th>Model_1_Passat</th>\n",
       "      <th>Model_1_Polo</th>\n",
       "      <th>Model_1_RAV4</th>\n",
       "      <th>Model_1_Scirocco</th>\n",
       "      <th>Model_1_Tiguan</th>\n",
       "      <th>Model_1_Yaris</th>\n",
       "    </tr>\n",
       "  </thead>\n",
       "  <tbody>\n",
       "    <tr>\n",
       "      <th>0</th>\n",
       "      <td>2199.0</td>\n",
       "      <td>83000.0</td>\n",
       "      <td>2008</td>\n",
       "      <td>67.0</td>\n",
       "      <td>51.4</td>\n",
       "      <td>3.0</td>\n",
       "      <td>5.0</td>\n",
       "      <td>108.0</td>\n",
       "      <td>3.0</td>\n",
       "      <td>4.0</td>\n",
       "      <td>...</td>\n",
       "      <td>0</td>\n",
       "      <td>0</td>\n",
       "      <td>0</td>\n",
       "      <td>0</td>\n",
       "      <td>0</td>\n",
       "      <td>0</td>\n",
       "      <td>0</td>\n",
       "      <td>0</td>\n",
       "      <td>0</td>\n",
       "      <td>0</td>\n",
       "    </tr>\n",
       "    <tr>\n",
       "      <th>1</th>\n",
       "      <td>995.0</td>\n",
       "      <td>130000.0</td>\n",
       "      <td>2006</td>\n",
       "      <td>67.0</td>\n",
       "      <td>51.4</td>\n",
       "      <td>3.0</td>\n",
       "      <td>5.0</td>\n",
       "      <td>108.0</td>\n",
       "      <td>3.0</td>\n",
       "      <td>4.0</td>\n",
       "      <td>...</td>\n",
       "      <td>0</td>\n",
       "      <td>0</td>\n",
       "      <td>0</td>\n",
       "      <td>0</td>\n",
       "      <td>0</td>\n",
       "      <td>0</td>\n",
       "      <td>0</td>\n",
       "      <td>0</td>\n",
       "      <td>0</td>\n",
       "      <td>0</td>\n",
       "    </tr>\n",
       "    <tr>\n",
       "      <th>2</th>\n",
       "      <td>6695.0</td>\n",
       "      <td>39000.0</td>\n",
       "      <td>2017</td>\n",
       "      <td>67.0</td>\n",
       "      <td>56.5</td>\n",
       "      <td>3.0</td>\n",
       "      <td>5.0</td>\n",
       "      <td>95.0</td>\n",
       "      <td>5.0</td>\n",
       "      <td>4.0</td>\n",
       "      <td>...</td>\n",
       "      <td>0</td>\n",
       "      <td>0</td>\n",
       "      <td>0</td>\n",
       "      <td>0</td>\n",
       "      <td>0</td>\n",
       "      <td>0</td>\n",
       "      <td>0</td>\n",
       "      <td>0</td>\n",
       "      <td>0</td>\n",
       "      <td>0</td>\n",
       "    </tr>\n",
       "    <tr>\n",
       "      <th>3</th>\n",
       "      <td>2495.0</td>\n",
       "      <td>73000.0</td>\n",
       "      <td>2007</td>\n",
       "      <td>67.0</td>\n",
       "      <td>51.4</td>\n",
       "      <td>3.0</td>\n",
       "      <td>5.0</td>\n",
       "      <td>109.0</td>\n",
       "      <td>3.0</td>\n",
       "      <td>4.0</td>\n",
       "      <td>...</td>\n",
       "      <td>0</td>\n",
       "      <td>0</td>\n",
       "      <td>0</td>\n",
       "      <td>0</td>\n",
       "      <td>0</td>\n",
       "      <td>0</td>\n",
       "      <td>0</td>\n",
       "      <td>0</td>\n",
       "      <td>0</td>\n",
       "      <td>0</td>\n",
       "    </tr>\n",
       "    <tr>\n",
       "      <th>4</th>\n",
       "      <td>5995.0</td>\n",
       "      <td>57796.0</td>\n",
       "      <td>2015</td>\n",
       "      <td>67.0</td>\n",
       "      <td>56.5</td>\n",
       "      <td>3.0</td>\n",
       "      <td>5.0</td>\n",
       "      <td>95.0</td>\n",
       "      <td>5.0</td>\n",
       "      <td>4.0</td>\n",
       "      <td>...</td>\n",
       "      <td>0</td>\n",
       "      <td>0</td>\n",
       "      <td>0</td>\n",
       "      <td>0</td>\n",
       "      <td>0</td>\n",
       "      <td>0</td>\n",
       "      <td>0</td>\n",
       "      <td>0</td>\n",
       "      <td>0</td>\n",
       "      <td>0</td>\n",
       "    </tr>\n",
       "    <tr>\n",
       "      <th>...</th>\n",
       "      <td>...</td>\n",
       "      <td>...</td>\n",
       "      <td>...</td>\n",
       "      <td>...</td>\n",
       "      <td>...</td>\n",
       "      <td>...</td>\n",
       "      <td>...</td>\n",
       "      <td>...</td>\n",
       "      <td>...</td>\n",
       "      <td>...</td>\n",
       "      <td>...</td>\n",
       "      <td>...</td>\n",
       "      <td>...</td>\n",
       "      <td>...</td>\n",
       "      <td>...</td>\n",
       "      <td>...</td>\n",
       "      <td>...</td>\n",
       "      <td>...</td>\n",
       "      <td>...</td>\n",
       "      <td>...</td>\n",
       "      <td>...</td>\n",
       "    </tr>\n",
       "    <tr>\n",
       "      <th>111733</th>\n",
       "      <td>10844.0</td>\n",
       "      <td>33298.0</td>\n",
       "      <td>2015</td>\n",
       "      <td>113.0</td>\n",
       "      <td>78.0</td>\n",
       "      <td>4.0</td>\n",
       "      <td>6.0</td>\n",
       "      <td>94.0</td>\n",
       "      <td>5.0</td>\n",
       "      <td>5.0</td>\n",
       "      <td>...</td>\n",
       "      <td>0</td>\n",
       "      <td>0</td>\n",
       "      <td>0</td>\n",
       "      <td>1</td>\n",
       "      <td>0</td>\n",
       "      <td>0</td>\n",
       "      <td>0</td>\n",
       "      <td>0</td>\n",
       "      <td>0</td>\n",
       "      <td>0</td>\n",
       "    </tr>\n",
       "    <tr>\n",
       "      <th>111735</th>\n",
       "      <td>11995.0</td>\n",
       "      <td>5632.0</td>\n",
       "      <td>2021</td>\n",
       "      <td>67.0</td>\n",
       "      <td>56.5</td>\n",
       "      <td>3.0</td>\n",
       "      <td>5.0</td>\n",
       "      <td>114.0</td>\n",
       "      <td>5.0</td>\n",
       "      <td>4.0</td>\n",
       "      <td>...</td>\n",
       "      <td>0</td>\n",
       "      <td>0</td>\n",
       "      <td>0</td>\n",
       "      <td>0</td>\n",
       "      <td>0</td>\n",
       "      <td>0</td>\n",
       "      <td>0</td>\n",
       "      <td>0</td>\n",
       "      <td>0</td>\n",
       "      <td>0</td>\n",
       "    </tr>\n",
       "    <tr>\n",
       "      <th>111736</th>\n",
       "      <td>11500.0</td>\n",
       "      <td>28898.0</td>\n",
       "      <td>2018</td>\n",
       "      <td>67.0</td>\n",
       "      <td>56.5</td>\n",
       "      <td>3.0</td>\n",
       "      <td>5.0</td>\n",
       "      <td>95.0</td>\n",
       "      <td>5.0</td>\n",
       "      <td>4.0</td>\n",
       "      <td>...</td>\n",
       "      <td>0</td>\n",
       "      <td>0</td>\n",
       "      <td>0</td>\n",
       "      <td>0</td>\n",
       "      <td>0</td>\n",
       "      <td>0</td>\n",
       "      <td>0</td>\n",
       "      <td>0</td>\n",
       "      <td>0</td>\n",
       "      <td>0</td>\n",
       "    </tr>\n",
       "    <tr>\n",
       "      <th>111737</th>\n",
       "      <td>10646.0</td>\n",
       "      <td>51139.0</td>\n",
       "      <td>2015</td>\n",
       "      <td>148.0</td>\n",
       "      <td>62.0</td>\n",
       "      <td>4.0</td>\n",
       "      <td>6.0</td>\n",
       "      <td>107.0</td>\n",
       "      <td>5.0</td>\n",
       "      <td>5.0</td>\n",
       "      <td>...</td>\n",
       "      <td>0</td>\n",
       "      <td>0</td>\n",
       "      <td>0</td>\n",
       "      <td>1</td>\n",
       "      <td>0</td>\n",
       "      <td>0</td>\n",
       "      <td>0</td>\n",
       "      <td>0</td>\n",
       "      <td>0</td>\n",
       "      <td>0</td>\n",
       "    </tr>\n",
       "    <tr>\n",
       "      <th>111738</th>\n",
       "      <td>14650.0</td>\n",
       "      <td>99000.0</td>\n",
       "      <td>2019</td>\n",
       "      <td>148.0</td>\n",
       "      <td>54.0</td>\n",
       "      <td>4.0</td>\n",
       "      <td>8.0</td>\n",
       "      <td>103.0</td>\n",
       "      <td>5.0</td>\n",
       "      <td>5.0</td>\n",
       "      <td>...</td>\n",
       "      <td>0</td>\n",
       "      <td>0</td>\n",
       "      <td>0</td>\n",
       "      <td>1</td>\n",
       "      <td>0</td>\n",
       "      <td>0</td>\n",
       "      <td>0</td>\n",
       "      <td>0</td>\n",
       "      <td>0</td>\n",
       "      <td>0</td>\n",
       "    </tr>\n",
       "  </tbody>\n",
       "</table>\n",
       "<p>108634 rows × 51 columns</p>\n",
       "</div>"
      ],
      "text/plain": [
       "          Price    Milage  Year  Power  Consumption  Cylinder  Gears  \\\n",
       "0        2199.0   83000.0  2008   67.0         51.4       3.0    5.0   \n",
       "1         995.0  130000.0  2006   67.0         51.4       3.0    5.0   \n",
       "2        6695.0   39000.0  2017   67.0         56.5       3.0    5.0   \n",
       "3        2495.0   73000.0  2007   67.0         51.4       3.0    5.0   \n",
       "4        5995.0   57796.0  2015   67.0         56.5       3.0    5.0   \n",
       "...         ...       ...   ...    ...          ...       ...    ...   \n",
       "111733  10844.0   33298.0  2015  113.0         78.0       4.0    6.0   \n",
       "111735  11995.0    5632.0  2021   67.0         56.5       3.0    5.0   \n",
       "111736  11500.0   28898.0  2018   67.0         56.5       3.0    5.0   \n",
       "111737  10646.0   51139.0  2015  148.0         62.0       4.0    6.0   \n",
       "111738  14650.0   99000.0  2019  148.0         54.0       4.0    8.0   \n",
       "\n",
       "        CO2 emission  Door  Seat  ...  Model_1_KA  Model_1_Kuga  \\\n",
       "0              108.0   3.0   4.0  ...           0             0   \n",
       "1              108.0   3.0   4.0  ...           0             0   \n",
       "2               95.0   5.0   4.0  ...           0             0   \n",
       "3              109.0   3.0   4.0  ...           0             0   \n",
       "4               95.0   5.0   4.0  ...           0             0   \n",
       "...              ...   ...   ...  ...         ...           ...   \n",
       "111733          94.0   5.0   5.0  ...           0             0   \n",
       "111735         114.0   5.0   4.0  ...           0             0   \n",
       "111736          95.0   5.0   4.0  ...           0             0   \n",
       "111737         107.0   5.0   5.0  ...           0             0   \n",
       "111738         103.0   5.0   5.0  ...           0             0   \n",
       "\n",
       "        Model_1_Mokka  Model_1_Mondeo  Model_1_Passat  Model_1_Polo  \\\n",
       "0                   0               0               0             0   \n",
       "1                   0               0               0             0   \n",
       "2                   0               0               0             0   \n",
       "3                   0               0               0             0   \n",
       "4                   0               0               0             0   \n",
       "...               ...             ...             ...           ...   \n",
       "111733              0               1               0             0   \n",
       "111735              0               0               0             0   \n",
       "111736              0               0               0             0   \n",
       "111737              0               1               0             0   \n",
       "111738              0               1               0             0   \n",
       "\n",
       "        Model_1_RAV4  Model_1_Scirocco  Model_1_Tiguan  Model_1_Yaris  \n",
       "0                  0                 0               0              0  \n",
       "1                  0                 0               0              0  \n",
       "2                  0                 0               0              0  \n",
       "3                  0                 0               0              0  \n",
       "4                  0                 0               0              0  \n",
       "...              ...               ...             ...            ...  \n",
       "111733             0                 0               0              0  \n",
       "111735             0                 0               0              0  \n",
       "111736             0                 0               0              0  \n",
       "111737             0                 0               0              0  \n",
       "111738             0                 0               0              0  \n",
       "\n",
       "[108634 rows x 51 columns]"
      ]
     },
     "execution_count": 360,
     "metadata": {},
     "output_type": "execute_result"
    }
   ],
   "source": [
    "data_encoded = pd.get_dummies(data, columns=encode_col)\n",
    "\n",
    "data_encoded"
   ]
  },
  {
   "cell_type": "code",
   "execution_count": 361,
   "id": "2bbdb905",
   "metadata": {},
   "outputs": [],
   "source": [
    "# Save encoded data\n",
    "\n",
    "data_encoded.to_pickle('data_encoded')"
   ]
  },
  {
   "cell_type": "markdown",
   "id": "5774f919",
   "metadata": {},
   "source": [
    "----\n",
    "\n",
    "# The End"
   ]
  }
 ],
 "metadata": {
  "kernelspec": {
   "display_name": "Python 3 (ipykernel)",
   "language": "python",
   "name": "python3"
  },
  "language_info": {
   "codemirror_mode": {
    "name": "ipython",
    "version": 3
   },
   "file_extension": ".py",
   "mimetype": "text/x-python",
   "name": "python",
   "nbconvert_exporter": "python",
   "pygments_lexer": "ipython3",
   "version": "3.10.12"
  }
 },
 "nbformat": 4,
 "nbformat_minor": 5
}
